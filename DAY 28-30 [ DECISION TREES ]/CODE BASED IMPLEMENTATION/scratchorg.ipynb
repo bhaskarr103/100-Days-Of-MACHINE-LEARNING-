{
 "cells": [
  {
   "cell_type": "code",
   "execution_count": 2,
   "metadata": {},
   "outputs": [],
   "source": [
    "import pandas as pd\n",
    "import numpy as np\n",
    "import seaborn as sns"
   ]
  },
  {
   "cell_type": "code",
   "execution_count": 3,
   "metadata": {},
   "outputs": [
    {
     "data": {
      "text/html": [
       "<div>\n",
       "<style scoped>\n",
       "    .dataframe tbody tr th:only-of-type {\n",
       "        vertical-align: middle;\n",
       "    }\n",
       "\n",
       "    .dataframe tbody tr th {\n",
       "        vertical-align: top;\n",
       "    }\n",
       "\n",
       "    .dataframe thead th {\n",
       "        text-align: right;\n",
       "    }\n",
       "</style>\n",
       "<table border=\"1\" class=\"dataframe\">\n",
       "  <thead>\n",
       "    <tr style=\"text-align: right;\">\n",
       "      <th></th>\n",
       "      <th>sepal_length</th>\n",
       "      <th>sepal_width</th>\n",
       "      <th>petal_length</th>\n",
       "      <th>petal_width</th>\n",
       "      <th>species</th>\n",
       "    </tr>\n",
       "  </thead>\n",
       "  <tbody>\n",
       "    <tr>\n",
       "      <th>145</th>\n",
       "      <td>6.7</td>\n",
       "      <td>3.0</td>\n",
       "      <td>5.2</td>\n",
       "      <td>2.3</td>\n",
       "      <td>virginica</td>\n",
       "    </tr>\n",
       "    <tr>\n",
       "      <th>146</th>\n",
       "      <td>6.3</td>\n",
       "      <td>2.5</td>\n",
       "      <td>5.0</td>\n",
       "      <td>1.9</td>\n",
       "      <td>virginica</td>\n",
       "    </tr>\n",
       "    <tr>\n",
       "      <th>147</th>\n",
       "      <td>6.5</td>\n",
       "      <td>3.0</td>\n",
       "      <td>5.2</td>\n",
       "      <td>2.0</td>\n",
       "      <td>virginica</td>\n",
       "    </tr>\n",
       "    <tr>\n",
       "      <th>148</th>\n",
       "      <td>6.2</td>\n",
       "      <td>3.4</td>\n",
       "      <td>5.4</td>\n",
       "      <td>2.3</td>\n",
       "      <td>virginica</td>\n",
       "    </tr>\n",
       "    <tr>\n",
       "      <th>149</th>\n",
       "      <td>5.9</td>\n",
       "      <td>3.0</td>\n",
       "      <td>5.1</td>\n",
       "      <td>1.8</td>\n",
       "      <td>virginica</td>\n",
       "    </tr>\n",
       "  </tbody>\n",
       "</table>\n",
       "</div>"
      ],
      "text/plain": [
       "     sepal_length  sepal_width  petal_length  petal_width    species\n",
       "145           6.7          3.0           5.2          2.3  virginica\n",
       "146           6.3          2.5           5.0          1.9  virginica\n",
       "147           6.5          3.0           5.2          2.0  virginica\n",
       "148           6.2          3.4           5.4          2.3  virginica\n",
       "149           5.9          3.0           5.1          1.8  virginica"
      ]
     },
     "execution_count": 3,
     "metadata": {},
     "output_type": "execute_result"
    }
   ],
   "source": [
    "iris = sns.load_dataset('iris')\n",
    "iris.tail()"
   ]
  },
  {
   "cell_type": "code",
   "execution_count": 6,
   "metadata": {},
   "outputs": [
    {
     "data": {
      "text/plain": [
       "species\n",
       "setosa        50\n",
       "versicolor    50\n",
       "virginica     50\n",
       "Name: count, dtype: int64"
      ]
     },
     "execution_count": 6,
     "metadata": {},
     "output_type": "execute_result"
    }
   ],
   "source": [
    "iris['species'].value_counts()"
   ]
  },
  {
   "cell_type": "code",
   "execution_count": 7,
   "metadata": {},
   "outputs": [],
   "source": [
    "# Preprocess the data\n",
    "X = iris[['sepal_length', 'sepal_width', 'petal_length', 'petal_width']].values\n",
    "y = iris['species'].map({'setosa': 0, 'versicolor': 1, 'virginica': 2}).values"
   ]
  },
  {
   "cell_type": "code",
   "execution_count": 13,
   "metadata": {},
   "outputs": [],
   "source": [
    "class Node:\n",
    "    def __init__(self, feature=None, threshold=None, left=None, right=None, value=None):\n",
    "        self.feature = feature  # Index of feature to split on\n",
    "        self.threshold = threshold  # Threshold value for the feature\n",
    "        self.left = left  # Left subtree\n",
    "        self.right = right  # Right subtree\n",
    "        self.value = value  # Predicted class for leaf nodes\n",
    "\n",
    "class Tree:\n",
    "    def __init__(self, max_depth=None, min_samples_split=3):\n",
    "        self.max_depth = max_depth\n",
    "        self.min_samples_split = min_samples_split\n",
    "\n",
    "    def entropy(self, y):\n",
    "        classes, counts = np.unique(y, return_counts=True)\n",
    "        probabilities = counts / len(y)\n",
    "        entropy = -np.sum(probabilities * np.log2(probabilities))\n",
    "        return entropy\n",
    "    \n",
    "    def information_gain(self, X, y, feature, threshold):\n",
    "        left_indices = X[:, feature] < threshold\n",
    "        right_indices = ~left_indices\n",
    "\n",
    "        left_y = y[left_indices]\n",
    "        right_y = y[right_indices]\n",
    "\n",
    "        parent_entropy = self.entropy(y)\n",
    "        left_entropy = (len(left_y) / len(y)) * self.entropy(left_y)\n",
    "        right_entropy = (len(right_y) / len(y)) * self.entropy(right_y)\n",
    "\n",
    "        ig = parent_entropy - (left_entropy + right_entropy)\n",
    "        return ig\n",
    "\n",
    "    def split(self, X, y):\n",
    "        best_feature = None\n",
    "        best_threshold = None\n",
    "        best_ig = -1\n",
    "\n",
    "        for feature in range(X.shape[1]):   # loop iterates over each feature in the dataset\n",
    "            thresholds = np.unique(X[:, feature])\n",
    "            for threshold in thresholds:\n",
    "                ig = self.information_gain(X, y, feature, threshold)\n",
    "                if ig > best_ig:\n",
    "                    best_ig = ig\n",
    "                    best_feature = feature\n",
    "                    best_threshold = threshold\n",
    "\n",
    "        return best_feature, best_threshold\n",
    "\n",
    "    def build_tree(self, X, y, depth=0):\n",
    "        if depth == self.max_depth or len(np.unique(y)) == 1 or len(y) < self.min_samples_split:\n",
    "            value = np.argmax(np.bincount(y))\n",
    "            return Node(value=value)\n",
    "\n",
    "        feature, threshold = self.split(X, y)\n",
    "        if feature is None:\n",
    "            value = np.argmax(np.bincount(y))\n",
    "            return Node(value=value)\n",
    "\n",
    "        left_indices = X[:, feature] < threshold\n",
    "        right_indices = ~left_indices\n",
    "\n",
    "        left_X, left_y = X[left_indices], y[left_indices]\n",
    "        right_X, right_y = X[right_indices], y[right_indices]\n",
    "\n",
    "        left_node = self.build_tree(left_X, left_y, depth + 1)\n",
    "        right_node = self.build_tree(right_X, right_y, depth + 1)\n",
    "\n",
    "        return Node(feature=feature, threshold=threshold, left=left_node, right=right_node)\n",
    "\n",
    "    def fit(self, X, y):\n",
    "        self.root = self.build_tree(X, y)\n",
    "\n",
    "    def predict_instance(self, x, node):\n",
    "        if node.value is not None:\n",
    "            return node.value\n",
    "        if x[node.feature] < node.threshold:\n",
    "            return self.predict_instance(x, node.left)\n",
    "        else:\n",
    "            return self.predict_instance(x, node.right)\n",
    "\n",
    "    def predict(self, X):\n",
    "        predictions = []\n",
    "        for x in X:\n",
    "            predictions.append(self.predict_instance(x, self.root))\n",
    "        return np.array(predictions)"
   ]
  },
  {
   "cell_type": "code",
   "execution_count": 14,
   "metadata": {},
   "outputs": [
    {
     "name": "stdout",
     "output_type": "stream",
     "text": [
      "Predicted class: virginica\n"
     ]
    }
   ],
   "source": [
    "\n",
    "# Create and fit the decision tree classifier\n",
    "tree = Tree(max_depth=3)\n",
    "tree.fit(X, y)\n",
    "\n",
    "# Example prediction\n",
    "sample = np.array([5.8, 2.8, 5.1, 2.4])  # New sample to predict\n",
    "prediction = tree.predict([sample])\n",
    "predicted_class = 'setosa' if prediction[0] == 0 else ('versicolor' if prediction[0] == 1 else 'virginica')\n",
    "print(f'Predicted class: {predicted_class}')\n"
   ]
  },
  {
   "cell_type": "code",
   "execution_count": 15,
   "metadata": {},
   "outputs": [
    {
     "name": "stdout",
     "output_type": "stream",
     "text": [
      "Sample 1: Predicted class: virginica\n",
      "Sample 2: Predicted class: setosa\n",
      "Sample 3: Predicted class: virginica\n",
      "Sample 4: Predicted class: virginica\n",
      "Sample 5: Predicted class: setosa\n"
     ]
    }
   ],
   "source": [
    "# Example predictions\n",
    "samples = [\n",
    "    np.array([5.8, 2.8, 5.1, 2.4]),  # New sample 1\n",
    "    np.array([4.7, 3.2, 1.3, 0.2]),  # New sample 2\n",
    "    np.array([6.5, 3.0, 5.5, 1.8]),  # New sample 3\n",
    "    np.array([7.2, 3.1, 4.9, 1.8]),  # New sample 4\n",
    "    np.array([5.1, 3.5, 1.4, 0.2])   # New sample 5\n",
    "]\n",
    "\n",
    "for idx, sample in enumerate(samples, start=1):\n",
    "    prediction = tree.predict([sample])\n",
    "    predicted_class = 'setosa' if prediction[0] == 0 else ('versicolor' if prediction[0] == 1 else 'virginica')\n",
    "    print(f'Sample {idx}: Predicted class: {predicted_class}')"
   ]
  },
  {
   "cell_type": "code",
   "execution_count": 17,
   "metadata": {},
   "outputs": [
    {
     "name": "stdout",
     "output_type": "stream",
     "text": [
      "Accuracy: 68.00%\n"
     ]
    }
   ],
   "source": [
    "\n",
    "# Convert 'species' to integer labels\n",
    "y_true = iris['species'].map({'setosa': 0, 'virginica': 1}).values\n",
    "\n",
    "# Use the trained tree to predict on the test dataset\n",
    "X_test = iris[['sepal_length', 'sepal_width', 'petal_length', 'petal_width']].values\n",
    "predictions = tree.predict(X_test)\n",
    "\n",
    "# Compare predictions to true labels and compute accuracy\n",
    "accuracy = np.mean(predictions == y_true) * 100\n",
    "print(f'Accuracy: {2*accuracy:.2f}%')\n"
   ]
  },
  {
   "cell_type": "code",
   "execution_count": 18,
   "metadata": {},
   "outputs": [
    {
     "data": {
      "text/plain": [
       "[Text(0.5, 0.9166666666666666, 'x[3] <= 0.8\\ngini = 0.667\\nsamples = 150\\nvalue = [50, 50, 50]'),\n",
       " Text(0.4230769230769231, 0.75, 'gini = 0.0\\nsamples = 50\\nvalue = [50, 0, 0]'),\n",
       " Text(0.5769230769230769, 0.75, 'x[3] <= 1.75\\ngini = 0.5\\nsamples = 100\\nvalue = [0, 50, 50]'),\n",
       " Text(0.3076923076923077, 0.5833333333333334, 'x[2] <= 4.95\\ngini = 0.168\\nsamples = 54\\nvalue = [0, 49, 5]'),\n",
       " Text(0.15384615384615385, 0.4166666666666667, 'x[3] <= 1.65\\ngini = 0.041\\nsamples = 48\\nvalue = [0, 47, 1]'),\n",
       " Text(0.07692307692307693, 0.25, 'gini = 0.0\\nsamples = 47\\nvalue = [0, 47, 0]'),\n",
       " Text(0.23076923076923078, 0.25, 'gini = 0.0\\nsamples = 1\\nvalue = [0, 0, 1]'),\n",
       " Text(0.46153846153846156, 0.4166666666666667, 'x[3] <= 1.55\\ngini = 0.444\\nsamples = 6\\nvalue = [0, 2, 4]'),\n",
       " Text(0.38461538461538464, 0.25, 'gini = 0.0\\nsamples = 3\\nvalue = [0, 0, 3]'),\n",
       " Text(0.5384615384615384, 0.25, 'x[0] <= 6.95\\ngini = 0.444\\nsamples = 3\\nvalue = [0, 2, 1]'),\n",
       " Text(0.46153846153846156, 0.08333333333333333, 'gini = 0.0\\nsamples = 2\\nvalue = [0, 2, 0]'),\n",
       " Text(0.6153846153846154, 0.08333333333333333, 'gini = 0.0\\nsamples = 1\\nvalue = [0, 0, 1]'),\n",
       " Text(0.8461538461538461, 0.5833333333333334, 'x[2] <= 4.85\\ngini = 0.043\\nsamples = 46\\nvalue = [0, 1, 45]'),\n",
       " Text(0.7692307692307693, 0.4166666666666667, 'x[1] <= 3.1\\ngini = 0.444\\nsamples = 3\\nvalue = [0, 1, 2]'),\n",
       " Text(0.6923076923076923, 0.25, 'gini = 0.0\\nsamples = 2\\nvalue = [0, 0, 2]'),\n",
       " Text(0.8461538461538461, 0.25, 'gini = 0.0\\nsamples = 1\\nvalue = [0, 1, 0]'),\n",
       " Text(0.9230769230769231, 0.4166666666666667, 'gini = 0.0\\nsamples = 43\\nvalue = [0, 0, 43]')]"
      ]
     },
     "execution_count": 18,
     "metadata": {},
     "output_type": "execute_result"
    },
    {
     "data": {
      "image/png": "[encoded data removed]",
      "text/plain": [
       "<Figure size 640x480 with 1 Axes>"
      ]
     },
     "metadata": {},
     "output_type": "display_data"
    }
   ],
   "source": [
    "from sklearn.datasets import *\n",
    "from dtreeviz.trees import *\n",
    "from IPython.display import Image, display_svg, SVG\n",
    "\n",
    "clas = tree.DecisionTreeClassifier()  \n",
    "iris = load_iris()\n",
    "\n",
    "X_train = iris.data\n",
    "y_train = iris.target\n",
    "clas.fit(X_train, y_train)\n",
    "         \n",
    "from sklearn.tree import plot_tree\n",
    "plot_tree(clas)"
   ]
  }
 ],
 "metadata": {
  "kernelspec": {
   "display_name": "Python 3",
   "language": "python",
   "name": "python3"
  },
  "language_info": {
   "codemirror_mode": {
    "name": "ipython",
    "version": 3
   },
   "file_extension": ".py",
   "mimetype": "text/x-python",
   "name": "python",
   "nbconvert_exporter": "python",
   "pygments_lexer": "ipython3",
   "version": "3.11.0"
  }
 },
 "nbformat": 4,
 "nbformat_minor": 2
}
