{
 "cells": [
  {
   "cell_type": "markdown",
   "metadata": {},
   "source": []
  },
  {
   "cell_type": "code",
   "execution_count": 5,
   "metadata": {},
   "outputs": [
    {
     "data": {
      "text/html": [
       "<div>\n",
       "<style scoped>\n",
       "    .dataframe tbody tr th:only-of-type {\n",
       "        vertical-align: middle;\n",
       "    }\n",
       "\n",
       "    .dataframe tbody tr th {\n",
       "        vertical-align: top;\n",
       "    }\n",
       "\n",
       "    .dataframe thead th {\n",
       "        text-align: right;\n",
       "    }\n",
       "</style>\n",
       "<table border=\"1\" class=\"dataframe\">\n",
       "  <thead>\n",
       "    <tr style=\"text-align: right;\">\n",
       "      <th></th>\n",
       "      <th>Home</th>\n",
       "      <th>Price</th>\n",
       "      <th>SqFt</th>\n",
       "      <th>Bedrooms</th>\n",
       "      <th>Bathrooms</th>\n",
       "      <th>Offers</th>\n",
       "      <th>Brick</th>\n",
       "      <th>Neighborhood</th>\n",
       "    </tr>\n",
       "  </thead>\n",
       "  <tbody>\n",
       "    <tr>\n",
       "      <th>0</th>\n",
       "      <td>1</td>\n",
       "      <td>114300</td>\n",
       "      <td>1790</td>\n",
       "      <td>2</td>\n",
       "      <td>2</td>\n",
       "      <td>2</td>\n",
       "      <td>No</td>\n",
       "      <td>East</td>\n",
       "    </tr>\n",
       "    <tr>\n",
       "      <th>1</th>\n",
       "      <td>2</td>\n",
       "      <td>114200</td>\n",
       "      <td>2030</td>\n",
       "      <td>4</td>\n",
       "      <td>2</td>\n",
       "      <td>3</td>\n",
       "      <td>No</td>\n",
       "      <td>East</td>\n",
       "    </tr>\n",
       "    <tr>\n",
       "      <th>2</th>\n",
       "      <td>3</td>\n",
       "      <td>114800</td>\n",
       "      <td>1740</td>\n",
       "      <td>3</td>\n",
       "      <td>2</td>\n",
       "      <td>1</td>\n",
       "      <td>No</td>\n",
       "      <td>East</td>\n",
       "    </tr>\n",
       "    <tr>\n",
       "      <th>3</th>\n",
       "      <td>4</td>\n",
       "      <td>94700</td>\n",
       "      <td>1980</td>\n",
       "      <td>3</td>\n",
       "      <td>2</td>\n",
       "      <td>3</td>\n",
       "      <td>No</td>\n",
       "      <td>East</td>\n",
       "    </tr>\n",
       "    <tr>\n",
       "      <th>4</th>\n",
       "      <td>5</td>\n",
       "      <td>119800</td>\n",
       "      <td>2130</td>\n",
       "      <td>3</td>\n",
       "      <td>3</td>\n",
       "      <td>3</td>\n",
       "      <td>No</td>\n",
       "      <td>East</td>\n",
       "    </tr>\n",
       "  </tbody>\n",
       "</table>\n",
       "</div>"
      ],
      "text/plain": [
       "   Home   Price  SqFt  Bedrooms  Bathrooms  Offers Brick Neighborhood\n",
       "0     1  114300  1790         2          2       2    No         East\n",
       "1     2  114200  2030         4          2       3    No         East\n",
       "2     3  114800  1740         3          2       1    No         East\n",
       "3     4   94700  1980         3          2       3    No         East\n",
       "4     5  119800  2130         3          3       3    No         East"
      ]
     },
     "execution_count": 5,
     "metadata": {},
     "output_type": "execute_result"
    }
   ],
   "source": [
    "import pandas as pd\n",
    "import numpy as np\n",
    "\n",
    "\n",
    "df = pd.read_csv('house-prices.csv')\n",
    "df.head()"
   ]
  },
  {
   "cell_type": "code",
   "execution_count": 6,
   "metadata": {},
   "outputs": [],
   "source": [
    "df = df.drop(columns=['Bedrooms','Bathrooms','Brick','Neighborhood'],axis=1)"
   ]
  },
  {
   "cell_type": "code",
   "execution_count": 14,
   "metadata": {},
   "outputs": [
    {
     "name": "stdout",
     "output_type": "stream",
     "text": [
      "    Predicted_Output  Actual_Output\n",
      "0      111108.876044         125700\n",
      "1      110072.045470         106600\n",
      "2      130773.362458         167200\n",
      "3      131756.586779         112300\n",
      "4      159233.261505         145500\n",
      "5      142625.660560         140900\n",
      "6      131810.193032         165600\n",
      "7      100400.621023          82300\n",
      "8      152404.297513         184300\n",
      "9      123944.398467         137000\n",
      "10     138692.763277         160600\n",
      "11     109142.427403          99300\n",
      "12     124874.016534         130300\n",
      "13     136726.314636         119800\n",
      "14     167206.268577         133300\n",
      "15     123944.398467         115700\n",
      "16     126840.465175         117500\n",
      "17     127930.902002         143400\n",
      "18     145521.727269         113500\n",
      "19      76749.631073          90500\n",
      "20     123837.185960         111400\n",
      "21     126894.071429         132500\n",
      "22     119028.276863         150200\n",
      "23     125857.240855         123000\n",
      "24     161360.528906         146900\n",
      "25     105263.136373         103200\n"
     ]
    }
   ],
   "source": [
    "import pandas as pd\n",
    "from sklearn.linear_model import LinearRegression\n",
    "from sklearn.model_selection import train_test_split\n",
    "from sklearn.metrics import mean_squared_error\n",
    "\n",
    "\n",
    "# Extract features and target\n",
    "X = df[['SqFt', 'Offers']]\n",
    "y = df['Price']\n",
    "\n",
    "# Split the data into training and testing sets\n",
    "X_train, X_test, y_train, y_test = train_test_split(X, y, test_size=0.2, random_state=42)\n",
    "\n",
    "# Initialize and fit the linear regression model\n",
    "model = LinearRegression()\n",
    "model.fit(X_train, y_train)\n",
    "\n",
    "# Predict output for test set\n",
    "predicted_output = model.predict(X_test)\n",
    "\n",
    "# Create a DataFrame with predicted and actual outputs\n",
    "output_df = pd.DataFrame({\n",
    "    'Predicted_Output': predicted_output,\n",
    "    'Actual_Output': y_test.values\n",
    "})\n",
    "\n",
    "print(output_df)\n"
   ]
  },
  {
   "cell_type": "code",
   "execution_count": 15,
   "metadata": {},
   "outputs": [
    {
     "name": "stdout",
     "output_type": "stream",
     "text": [
      "                 Predicted Positive  Predicted Negative\n",
      "Actual Positive                  26                   0\n",
      "Actual Negative                   0                   0\n"
     ]
    }
   ],
   "source": [
    "# Create a function to compute the confusion matrix\n",
    "def compute_confusion_matrix(predicted, actual):\n",
    "    true_positives = 0\n",
    "    true_negatives = 0\n",
    "    false_positives = 0\n",
    "    false_negatives = 0\n",
    "\n",
    "    for pred, act in zip(predicted, actual):\n",
    "        if pred == 1 and act == 1:\n",
    "            true_positives += 1\n",
    "        elif pred == 0 and act == 0:\n",
    "            true_negatives += 1\n",
    "        elif pred == 1 and act == 0:\n",
    "            false_positives += 1\n",
    "        elif pred == 0 and act == 1:\n",
    "            false_negatives += 1\n",
    "\n",
    "    return true_positives, true_negatives, false_positives, false_negatives\n",
    "\n",
    "# Assuming 1 indicates positive and 0 indicates negative in the outputs\n",
    "predicted_output_binary = (output_df['Predicted_Output'] > 0).astype(int)\n",
    "actual_output_binary = (output_df['Actual_Output'] > 0).astype(int)\n",
    "\n",
    "# Compute the confusion matrix\n",
    "tp, tn, fp, fn = compute_confusion_matrix(predicted_output_binary, actual_output_binary)\n",
    "\n",
    "# Display the confusion matrix\n",
    "confusion_matrix = pd.DataFrame({\n",
    "    'Predicted Positive': [tp, fp],\n",
    "    'Predicted Negative': [fn, tn]\n",
    "}, index=['Actual Positive', 'Actual Negative'])\n",
    "\n",
    "print(confusion_matrix)\n"
   ]
  },
  {
   "cell_type": "code",
   "execution_count": 16,
   "metadata": {},
   "outputs": [
    {
     "name": "stdout",
     "output_type": "stream",
     "text": [
      "      Metric  Value\n",
      "0   Accuracy    1.0\n",
      "1  Precision    1.0\n",
      "2     Recall    1.0\n",
      "3   F1 Score    1.0\n"
     ]
    }
   ],
   "source": [
    "# Calculate Accuracy\n",
    "accuracy = (tp + tn) / (tp + fp + fn + tn)\n",
    "\n",
    "# Calculate Precision\n",
    "precision = tp / (tp + fp) if tp + fp > 0 else 0  # Handle division by zero\n",
    "\n",
    "# Calculate Recall\n",
    "recall = tp / (tp + fn) if tp + fn > 0 else 0  # Handle division by zero\n",
    "\n",
    "# Calculate F1 Score\n",
    "f1_score = 2 * (precision * recall) / (precision + recall) if precision + recall > 0 else 0  # Handle division by zero\n",
    "\n",
    "# Display the metrics\n",
    "metrics = pd.DataFrame({\n",
    "    'Metric': ['Accuracy', 'Precision', 'Recall', 'F1 Score'],\n",
    "    'Value': [accuracy, precision, recall, f1_score]\n",
    "})\n",
    "\n",
    "print(metrics)\n"
   ]
  }
 ],
 "metadata": {
  "kernelspec": {
   "display_name": "Python 3",
   "language": "python",
   "name": "python3"
  },
  "language_info": {
   "codemirror_mode": {
    "name": "ipython",
    "version": 3
   },
   "file_extension": ".py",
   "mimetype": "text/x-python",
   "name": "python",
   "nbconvert_exporter": "python",
   "pygments_lexer": "ipython3",
   "version": "3.11.0"
  }
 },
 "nbformat": 4,
 "nbformat_minor": 2
}
