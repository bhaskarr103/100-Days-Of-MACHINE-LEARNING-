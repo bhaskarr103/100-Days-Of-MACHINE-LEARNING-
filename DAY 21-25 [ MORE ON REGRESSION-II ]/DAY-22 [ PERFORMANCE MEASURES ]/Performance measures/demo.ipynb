{
 "cells": [
  {
   "cell_type": "code",
   "execution_count": 19,
   "metadata": {},
   "outputs": [
    {
     "name": "stdout",
     "output_type": "stream",
     "text": [
      "Confusion Matrix:\n",
      "              | Predicted Cat | Predicted Dog | Predicted Fox |\n",
      "--------------|---------------|---------------|---------------|\n",
      "Actual C    |      4        |      4        |      5        |\n",
      "Actual D    |      1        |      6        |      7        |\n",
      "Actual F    |      3        |      4        |      2        |\n",
      "\n",
      "Accuracy: 0.320\n",
      "Precision:\n",
      "C: 0.500\n",
      "D: 0.143\n",
      "F: 0.429\n",
      "Recall:\n",
      "C: 0.444\n",
      "D: 0.125\n",
      "F: 0.600\n",
      "F1 Score:\n",
      "C: 0.471\n",
      "D: 0.133\n",
      "F: 0.500\n"
     ]
    }
   ],
   "source": [
    "# Define the Actual and Predicted datasets\n",
    "actual = ['C']*9 + ['D']*8 + ['F']*8\n",
    "predicted = ['C']*4 + ['D']*4 + ['F']*4 + ['C']*4 + ['D']*3 + ['F']*3\n",
    "\n",
    "# Define the classes\n",
    "classes = ['C', 'D', 'F']\n",
    "\n",
    "# Initialize variables for True Positives, False Positives, and False Negatives for each class\n",
    "tp = {cls: 0 for cls in classes}\n",
    "fp = {cls: 0 for cls in classes}\n",
    "fn = {cls: 0 for cls in classes}\n",
    "\n",
    "# Calculate True Positives, False Positives, and False Negatives\n",
    "for a, p in zip(actual, predicted):\n",
    "    if a == p:\n",
    "        tp[a] += 1\n",
    "    else:\n",
    "        fp[p] += 1\n",
    "        fn[a] += 1\n",
    "\n",
    "# Calculate confusion matrix\n",
    "confusion_matrix = {cls: {'tp': tp[cls], 'fp': fp[cls], 'fn': fn[cls]} for cls in classes}\n",
    "\n",
    "# Calculate accuracy, precision, recall, and F1 score\n",
    "total_samples = len(actual)\n",
    "accuracy = sum(tp.values()) / total_samples\n",
    "\n",
    "precision = {cls: confusion_matrix[cls]['tp'] / (confusion_matrix[cls]['tp'] + confusion_matrix[cls]['fp'])\n",
    "             for cls in classes}\n",
    "\n",
    "recall = {cls: confusion_matrix[cls]['tp'] / (confusion_matrix[cls]['tp'] + confusion_matrix[cls]['fn'])\n",
    "          for cls in classes}\n",
    "\n",
    "f1_score = {cls: 2 * (precision[cls] * recall[cls]) / (precision[cls] + recall[cls]) for cls in classes}\n",
    "\n",
    "print(\"Confusion Matrix:\")\n",
    "print(\"              | Predicted Cat | Predicted Dog | Predicted Fox |\")\n",
    "print(\"--------------|---------------|---------------|---------------|\")\n",
    "for cls in classes:\n",
    "    print(f\"Actual {cls}    |      {confusion_matrix[cls]['tp']}        |      {confusion_matrix[cls]['fp']}        |\"\n",
    "          f\"      {confusion_matrix[cls]['fn']}        |\")\n",
    "print()\n",
    "\n",
    "print(f\"Accuracy: {accuracy:.3f}\")\n",
    "print(\"Precision:\")\n",
    "for cls in classes:\n",
    "    print(f\"{cls}: {precision[cls]:.3f}\")\n",
    "print(\"Recall:\")\n",
    "for cls in classes:\n",
    "    print(f\"{cls}: {recall[cls]:.3f}\")\n",
    "print(\"F1 Score:\")\n",
    "for cls in classes:\n",
    "    print(f\"{cls}: {f1_score[cls]:.3f}\")\n"
   ]
  },
  {
   "cell_type": "code",
   "execution_count": 20,
   "metadata": {},
   "outputs": [
    {
     "name": "stdout",
     "output_type": "stream",
     "text": [
      "Macro-Average Precision: 0.35714285714285715\n",
      "Macro-Average Recall: 0.3898148148148148\n"
     ]
    }
   ],
   "source": [
    "# Calculate macro-average precision and recall\n",
    "macro_precision = sum(precision.values()) / len(precision)\n",
    "macro_recall = sum(recall.values()) / len(recall)\n",
    "\n",
    "print(\"Macro-Average Precision:\", macro_precision)\n",
    "print(\"Macro-Average Recall:\", macro_recall)\n"
   ]
  }
 ],
 "metadata": {
  "kernelspec": {
   "display_name": "Python 3",
   "language": "python",
   "name": "python3"
  },
  "language_info": {
   "codemirror_mode": {
    "name": "ipython",
    "version": 3
   },
   "file_extension": ".py",
   "mimetype": "text/x-python",
   "name": "python",
   "nbconvert_exporter": "python",
   "pygments_lexer": "ipython3",
   "version": "3.11.0"
  }
 },
 "nbformat": 4,
 "nbformat_minor": 2
}
