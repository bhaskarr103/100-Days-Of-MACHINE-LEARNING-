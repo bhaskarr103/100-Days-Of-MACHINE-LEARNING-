{
 "cells": [
  {
   "cell_type": "markdown",
   "metadata": {},
   "source": [
    "# Install required libraries."
   ]
  },
  {
   "cell_type": "code",
   "execution_count": 11,
   "metadata": {},
   "outputs": [],
   "source": [
    "import pandas as pd\n",
    "import numpy as np\n",
    "import matplotlib.pyplot as plt\n",
    "import seaborn as sns\n",
    "\n",
    "import warnings\n",
    "warnings.filterwarnings(\"ignore\")\n",
    "%matplotlib inline"
   ]
  },
  {
   "cell_type": "markdown",
   "metadata": {},
   "source": [
    "# Importing Dataset"
   ]
  },
  {
   "cell_type": "code",
   "execution_count": 12,
   "metadata": {},
   "outputs": [
    {
     "data": {
      "text/html": [
       "<div>\n",
       "<style scoped>\n",
       "    .dataframe tbody tr th:only-of-type {\n",
       "        vertical-align: middle;\n",
       "    }\n",
       "\n",
       "    .dataframe tbody tr th {\n",
       "        vertical-align: top;\n",
       "    }\n",
       "\n",
       "    .dataframe thead th {\n",
       "        text-align: right;\n",
       "    }\n",
       "</style>\n",
       "<table border=\"1\" class=\"dataframe\">\n",
       "  <thead>\n",
       "    <tr style=\"text-align: right;\">\n",
       "      <th></th>\n",
       "      <th>Home</th>\n",
       "      <th>Price</th>\n",
       "      <th>SqFt</th>\n",
       "      <th>Bedrooms</th>\n",
       "      <th>Bathrooms</th>\n",
       "      <th>Offers</th>\n",
       "      <th>Brick</th>\n",
       "      <th>Neighborhood</th>\n",
       "    </tr>\n",
       "  </thead>\n",
       "  <tbody>\n",
       "    <tr>\n",
       "      <th>0</th>\n",
       "      <td>1</td>\n",
       "      <td>114300</td>\n",
       "      <td>1790</td>\n",
       "      <td>2</td>\n",
       "      <td>2</td>\n",
       "      <td>2</td>\n",
       "      <td>No</td>\n",
       "      <td>East</td>\n",
       "    </tr>\n",
       "    <tr>\n",
       "      <th>1</th>\n",
       "      <td>2</td>\n",
       "      <td>114200</td>\n",
       "      <td>2030</td>\n",
       "      <td>4</td>\n",
       "      <td>2</td>\n",
       "      <td>3</td>\n",
       "      <td>No</td>\n",
       "      <td>East</td>\n",
       "    </tr>\n",
       "    <tr>\n",
       "      <th>2</th>\n",
       "      <td>3</td>\n",
       "      <td>114800</td>\n",
       "      <td>1740</td>\n",
       "      <td>3</td>\n",
       "      <td>2</td>\n",
       "      <td>1</td>\n",
       "      <td>No</td>\n",
       "      <td>East</td>\n",
       "    </tr>\n",
       "    <tr>\n",
       "      <th>3</th>\n",
       "      <td>4</td>\n",
       "      <td>94700</td>\n",
       "      <td>1980</td>\n",
       "      <td>3</td>\n",
       "      <td>2</td>\n",
       "      <td>3</td>\n",
       "      <td>No</td>\n",
       "      <td>East</td>\n",
       "    </tr>\n",
       "    <tr>\n",
       "      <th>4</th>\n",
       "      <td>5</td>\n",
       "      <td>119800</td>\n",
       "      <td>2130</td>\n",
       "      <td>3</td>\n",
       "      <td>3</td>\n",
       "      <td>3</td>\n",
       "      <td>No</td>\n",
       "      <td>East</td>\n",
       "    </tr>\n",
       "  </tbody>\n",
       "</table>\n",
       "</div>"
      ],
      "text/plain": [
       "   Home   Price  SqFt  Bedrooms  Bathrooms  Offers Brick Neighborhood\n",
       "0     1  114300  1790         2          2       2    No         East\n",
       "1     2  114200  2030         4          2       3    No         East\n",
       "2     3  114800  1740         3          2       1    No         East\n",
       "3     4   94700  1980         3          2       3    No         East\n",
       "4     5  119800  2130         3          3       3    No         East"
      ]
     },
     "execution_count": 12,
     "metadata": {},
     "output_type": "execute_result"
    }
   ],
   "source": [
    "df = pd.read_csv('house-prices.csv')\n",
    "df.head()"
   ]
  },
  {
   "cell_type": "code",
   "execution_count": 13,
   "metadata": {},
   "outputs": [
    {
     "data": {
      "text/html": [
       "<div>\n",
       "<style scoped>\n",
       "    .dataframe tbody tr th:only-of-type {\n",
       "        vertical-align: middle;\n",
       "    }\n",
       "\n",
       "    .dataframe tbody tr th {\n",
       "        vertical-align: top;\n",
       "    }\n",
       "\n",
       "    .dataframe thead th {\n",
       "        text-align: right;\n",
       "    }\n",
       "</style>\n",
       "<table border=\"1\" class=\"dataframe\">\n",
       "  <thead>\n",
       "    <tr style=\"text-align: right;\">\n",
       "      <th></th>\n",
       "      <th>Price</th>\n",
       "      <th>SqFt</th>\n",
       "      <th>Bedrooms</th>\n",
       "      <th>Bathrooms</th>\n",
       "      <th>Offers</th>\n",
       "      <th>Brick</th>\n",
       "      <th>Neighborhood</th>\n",
       "    </tr>\n",
       "  </thead>\n",
       "  <tbody>\n",
       "    <tr>\n",
       "      <th>0</th>\n",
       "      <td>114300</td>\n",
       "      <td>1790</td>\n",
       "      <td>2</td>\n",
       "      <td>2</td>\n",
       "      <td>2</td>\n",
       "      <td>No</td>\n",
       "      <td>East</td>\n",
       "    </tr>\n",
       "    <tr>\n",
       "      <th>1</th>\n",
       "      <td>114200</td>\n",
       "      <td>2030</td>\n",
       "      <td>4</td>\n",
       "      <td>2</td>\n",
       "      <td>3</td>\n",
       "      <td>No</td>\n",
       "      <td>East</td>\n",
       "    </tr>\n",
       "    <tr>\n",
       "      <th>2</th>\n",
       "      <td>114800</td>\n",
       "      <td>1740</td>\n",
       "      <td>3</td>\n",
       "      <td>2</td>\n",
       "      <td>1</td>\n",
       "      <td>No</td>\n",
       "      <td>East</td>\n",
       "    </tr>\n",
       "    <tr>\n",
       "      <th>3</th>\n",
       "      <td>94700</td>\n",
       "      <td>1980</td>\n",
       "      <td>3</td>\n",
       "      <td>2</td>\n",
       "      <td>3</td>\n",
       "      <td>No</td>\n",
       "      <td>East</td>\n",
       "    </tr>\n",
       "    <tr>\n",
       "      <th>4</th>\n",
       "      <td>119800</td>\n",
       "      <td>2130</td>\n",
       "      <td>3</td>\n",
       "      <td>3</td>\n",
       "      <td>3</td>\n",
       "      <td>No</td>\n",
       "      <td>East</td>\n",
       "    </tr>\n",
       "  </tbody>\n",
       "</table>\n",
       "</div>"
      ],
      "text/plain": [
       "    Price  SqFt  Bedrooms  Bathrooms  Offers Brick Neighborhood\n",
       "0  114300  1790         2          2       2    No         East\n",
       "1  114200  2030         4          2       3    No         East\n",
       "2  114800  1740         3          2       1    No         East\n",
       "3   94700  1980         3          2       3    No         East\n",
       "4  119800  2130         3          3       3    No         East"
      ]
     },
     "execution_count": 13,
     "metadata": {},
     "output_type": "execute_result"
    }
   ],
   "source": [
    "df = df.drop(['Home'], axis=1)\n",
    "df.head()"
   ]
  },
  {
   "cell_type": "code",
   "execution_count": 14,
   "metadata": {},
   "outputs": [
    {
     "data": {
      "text/plain": [
       "(128, 7)"
      ]
     },
     "execution_count": 14,
     "metadata": {},
     "output_type": "execute_result"
    }
   ],
   "source": [
    "df.shape"
   ]
  },
  {
   "cell_type": "markdown",
   "metadata": {},
   "source": [
    "There are 128 observations and 6 features + 1 target variable(price)."
   ]
  },
  {
   "cell_type": "code",
   "execution_count": 15,
   "metadata": {},
   "outputs": [
    {
     "name": "stdout",
     "output_type": "stream",
     "text": [
      "<class 'pandas.core.frame.DataFrame'>\n",
      "RangeIndex: 128 entries, 0 to 127\n",
      "Data columns (total 7 columns):\n",
      " #   Column        Non-Null Count  Dtype \n",
      "---  ------        --------------  ----- \n",
      " 0   Price         128 non-null    int64 \n",
      " 1   SqFt          128 non-null    int64 \n",
      " 2   Bedrooms      128 non-null    int64 \n",
      " 3   Bathrooms     128 non-null    int64 \n",
      " 4   Offers        128 non-null    int64 \n",
      " 5   Brick         128 non-null    object\n",
      " 6   Neighborhood  128 non-null    object\n",
      "dtypes: int64(5), object(2)\n",
      "memory usage: 7.1+ KB\n"
     ]
    }
   ],
   "source": [
    "df.info()"
   ]
  },
  {
   "cell_type": "markdown",
   "metadata": {},
   "source": [
    "The above info function provide the information about the dataset .\n",
    "For example:\n",
    "* Missing values(no missing values in our dataset)\n",
    "* datatype(5 of them are floats and 2 is categorical)"
   ]
  },
  {
   "cell_type": "code",
   "execution_count": 8,
   "metadata": {},
   "outputs": [],
   "source": [
    "# Perform one-hot encoding for categorical columns\n",
    "#df = pd.get_dummies(df, columns=[\"Brick\", \"Neighborhood\"])"
   ]
  },
  {
   "cell_type": "code",
   "execution_count": 18,
   "metadata": {},
   "outputs": [
    {
     "data": {
      "text/html": [
       "<div>\n",
       "<style scoped>\n",
       "    .dataframe tbody tr th:only-of-type {\n",
       "        vertical-align: middle;\n",
       "    }\n",
       "\n",
       "    .dataframe tbody tr th {\n",
       "        vertical-align: top;\n",
       "    }\n",
       "\n",
       "    .dataframe thead th {\n",
       "        text-align: right;\n",
       "    }\n",
       "</style>\n",
       "<table border=\"1\" class=\"dataframe\">\n",
       "  <thead>\n",
       "    <tr style=\"text-align: right;\">\n",
       "      <th></th>\n",
       "      <th>Price</th>\n",
       "      <th>SqFt</th>\n",
       "      <th>Bedrooms</th>\n",
       "      <th>Bathrooms</th>\n",
       "      <th>Offers</th>\n",
       "      <th>Brick</th>\n",
       "      <th>Neighborhood</th>\n",
       "    </tr>\n",
       "  </thead>\n",
       "  <tbody>\n",
       "    <tr>\n",
       "      <th>123</th>\n",
       "      <td>119700</td>\n",
       "      <td>1900</td>\n",
       "      <td>3</td>\n",
       "      <td>3</td>\n",
       "      <td>3</td>\n",
       "      <td>1</td>\n",
       "      <td>East</td>\n",
       "    </tr>\n",
       "    <tr>\n",
       "      <th>124</th>\n",
       "      <td>147900</td>\n",
       "      <td>2160</td>\n",
       "      <td>4</td>\n",
       "      <td>3</td>\n",
       "      <td>3</td>\n",
       "      <td>1</td>\n",
       "      <td>East</td>\n",
       "    </tr>\n",
       "    <tr>\n",
       "      <th>125</th>\n",
       "      <td>113500</td>\n",
       "      <td>2070</td>\n",
       "      <td>2</td>\n",
       "      <td>2</td>\n",
       "      <td>2</td>\n",
       "      <td>0</td>\n",
       "      <td>North</td>\n",
       "    </tr>\n",
       "    <tr>\n",
       "      <th>126</th>\n",
       "      <td>149900</td>\n",
       "      <td>2020</td>\n",
       "      <td>3</td>\n",
       "      <td>3</td>\n",
       "      <td>1</td>\n",
       "      <td>0</td>\n",
       "      <td>West</td>\n",
       "    </tr>\n",
       "    <tr>\n",
       "      <th>127</th>\n",
       "      <td>124600</td>\n",
       "      <td>2250</td>\n",
       "      <td>3</td>\n",
       "      <td>3</td>\n",
       "      <td>4</td>\n",
       "      <td>0</td>\n",
       "      <td>North</td>\n",
       "    </tr>\n",
       "  </tbody>\n",
       "</table>\n",
       "</div>"
      ],
      "text/plain": [
       "      Price  SqFt  Bedrooms  Bathrooms  Offers  Brick Neighborhood\n",
       "123  119700  1900         3          3       3      1         East\n",
       "124  147900  2160         4          3       3      1         East\n",
       "125  113500  2070         2          2       2      0        North\n",
       "126  149900  2020         3          3       1      0         West\n",
       "127  124600  2250         3          3       4      0        North"
      ]
     },
     "execution_count": 18,
     "metadata": {},
     "output_type": "execute_result"
    }
   ],
   "source": [
    "# Replace \"No\" with 0 and \"Yes\" with 1 in the \"Brick\" column\n",
    "df['Brick'] = df['Brick'].replace({'No': 0, 'Yes': 1})\n",
    "df.tail()"
   ]
  },
  {
   "cell_type": "code",
   "execution_count": 19,
   "metadata": {},
   "outputs": [],
   "source": [
    "df_l = df.drop(['Neighborhood'],axis=1)"
   ]
  },
  {
   "cell_type": "code",
   "execution_count": 20,
   "metadata": {},
   "outputs": [
    {
     "data": {
      "image/png": "[encoded data removed]",
      "text/plain": [
       "<Figure size 1500x900 with 2 Axes>"
      ]
     },
     "metadata": {},
     "output_type": "display_data"
    }
   ],
   "source": [
    "# Pearson correlation\n",
    "plt.subplots(figsize=(15, 9))\n",
    "cor = df_l.corr()\n",
    "sns.heatmap(cor, annot=True, linewidths=.5)\n",
    "plt.show()"
   ]
  },
  {
   "cell_type": "markdown",
   "metadata": {},
   "source": [
    "If we have to select a single variable for the regression analysis then\n",
    "higher possibility is to pick the most correlated feature with the target variable(**price**).\n",
    "* In our case it is the **Sq.Ft.** with correlation coefficent of **0.55**"
   ]
  },
  {
   "cell_type": "code",
   "execution_count": 22,
   "metadata": {},
   "outputs": [
    {
     "data": {
      "text/html": [
       "<div>\n",
       "<style scoped>\n",
       "    .dataframe tbody tr th:only-of-type {\n",
       "        vertical-align: middle;\n",
       "    }\n",
       "\n",
       "    .dataframe tbody tr th {\n",
       "        vertical-align: top;\n",
       "    }\n",
       "\n",
       "    .dataframe thead th {\n",
       "        text-align: right;\n",
       "    }\n",
       "</style>\n",
       "<table border=\"1\" class=\"dataframe\">\n",
       "  <thead>\n",
       "    <tr style=\"text-align: right;\">\n",
       "      <th></th>\n",
       "      <th>Price</th>\n",
       "      <th>SqFt</th>\n",
       "    </tr>\n",
       "  </thead>\n",
       "  <tbody>\n",
       "    <tr>\n",
       "      <th>0</th>\n",
       "      <td>114300</td>\n",
       "      <td>1790</td>\n",
       "    </tr>\n",
       "    <tr>\n",
       "      <th>1</th>\n",
       "      <td>114200</td>\n",
       "      <td>2030</td>\n",
       "    </tr>\n",
       "    <tr>\n",
       "      <th>2</th>\n",
       "      <td>114800</td>\n",
       "      <td>1740</td>\n",
       "    </tr>\n",
       "    <tr>\n",
       "      <th>3</th>\n",
       "      <td>94700</td>\n",
       "      <td>1980</td>\n",
       "    </tr>\n",
       "    <tr>\n",
       "      <th>4</th>\n",
       "      <td>119800</td>\n",
       "      <td>2130</td>\n",
       "    </tr>\n",
       "  </tbody>\n",
       "</table>\n",
       "</div>"
      ],
      "text/plain": [
       "    Price  SqFt\n",
       "0  114300  1790\n",
       "1  114200  2030\n",
       "2  114800  1740\n",
       "3   94700  1980\n",
       "4  119800  2130"
      ]
     },
     "execution_count": 22,
     "metadata": {},
     "output_type": "execute_result"
    }
   ],
   "source": [
    "# taking two variables\n",
    "data = df_l.drop(['Bedrooms','Bathrooms','Offers','Brick'], axis=1)\n",
    "data.head()"
   ]
  },
  {
   "cell_type": "code",
   "execution_count": 33,
   "metadata": {},
   "outputs": [
    {
     "data": {
      "text/plain": [
       "array([[1790],\n",
       "       [2030],\n",
       "       [1740],\n",
       "       [1980],\n",
       "       [2130],\n",
       "       [1780],\n",
       "       [1830],\n",
       "       [2160],\n",
       "       [2110],\n",
       "       [1730],\n",
       "       [2030],\n",
       "       [1870],\n",
       "       [1910],\n",
       "       [2150],\n",
       "       [2590],\n",
       "       [1780],\n",
       "       [2190],\n",
       "       [1990],\n",
       "       [1700],\n",
       "       [1920],\n",
       "       [1790],\n",
       "       [2000],\n",
       "       [1690],\n",
       "       [1820],\n",
       "       [2210],\n",
       "       [2290],\n",
       "       [2000],\n",
       "       [1700],\n",
       "       [1600],\n",
       "       [2040],\n",
       "       [2250],\n",
       "       [1930],\n",
       "       [2250],\n",
       "       [2280],\n",
       "       [2000],\n",
       "       [2080],\n",
       "       [1880],\n",
       "       [2420],\n",
       "       [1720],\n",
       "       [1740],\n",
       "       [1560],\n",
       "       [1840],\n",
       "       [1990],\n",
       "       [1920],\n",
       "       [1940],\n",
       "       [1810],\n",
       "       [1990],\n",
       "       [2050],\n",
       "       [1980],\n",
       "       [1700],\n",
       "       [2100],\n",
       "       [1860],\n",
       "       [2150],\n",
       "       [2100],\n",
       "       [1650],\n",
       "       [1720],\n",
       "       [2190],\n",
       "       [2240],\n",
       "       [1840],\n",
       "       [2090],\n",
       "       [2200],\n",
       "       [1610],\n",
       "       [2220],\n",
       "       [1910],\n",
       "       [1860],\n",
       "       [1450],\n",
       "       [2210],\n",
       "       [2040],\n",
       "       [2140],\n",
       "       [2080],\n",
       "       [1950],\n",
       "       [2160],\n",
       "       [1650],\n",
       "       [2040],\n",
       "       [2140],\n",
       "       [1900],\n",
       "       [1930],\n",
       "       [2280],\n",
       "       [2130],\n",
       "       [1780],\n",
       "       [2190],\n",
       "       [2140],\n",
       "       [2050],\n",
       "       [2410],\n",
       "       [1520],\n",
       "       [2250],\n",
       "       [1900],\n",
       "       [1880],\n",
       "       [1930],\n",
       "       [2010],\n",
       "       [1920],\n",
       "       [2150],\n",
       "       [2110],\n",
       "       [2080],\n",
       "       [2150],\n",
       "       [1970],\n",
       "       [2440],\n",
       "       [2000],\n",
       "       [2060],\n",
       "       [2080],\n",
       "       [2010],\n",
       "       [2260],\n",
       "       [2410],\n",
       "       [2440],\n",
       "       [1910],\n",
       "       [2530],\n",
       "       [2130],\n",
       "       [1890],\n",
       "       [1990],\n",
       "       [2110],\n",
       "       [1710],\n",
       "       [1740],\n",
       "       [1940],\n",
       "       [2000],\n",
       "       [2010],\n",
       "       [1900],\n",
       "       [2290],\n",
       "       [1920],\n",
       "       [1950],\n",
       "       [1920],\n",
       "       [1930],\n",
       "       [1930],\n",
       "       [2060],\n",
       "       [1900],\n",
       "       [2160],\n",
       "       [2070],\n",
       "       [2020],\n",
       "       [2250]], dtype=int64)"
      ]
     },
     "execution_count": 33,
     "metadata": {},
     "output_type": "execute_result"
    }
   ],
   "source": [
    "X_l = data.iloc[:,-1].values.reshape(-1,1)\n",
    "X_l"
   ]
  },
  {
   "cell_type": "code",
   "execution_count": 25,
   "metadata": {},
   "outputs": [
    {
     "data": {
      "text/plain": [
       "array([[114300],\n",
       "       [114200],\n",
       "       [114800],\n",
       "       [ 94700],\n",
       "       [119800],\n",
       "       [114600],\n",
       "       [151600],\n",
       "       [150700],\n",
       "       [119200],\n",
       "       [104000],\n",
       "       [132500],\n",
       "       [123000],\n",
       "       [102600],\n",
       "       [126300],\n",
       "       [176800],\n",
       "       [145800],\n",
       "       [147100],\n",
       "       [ 83600],\n",
       "       [111400],\n",
       "       [167200],\n",
       "       [116200],\n",
       "       [113800],\n",
       "       [ 91700],\n",
       "       [106100],\n",
       "       [156400],\n",
       "       [149300],\n",
       "       [137000],\n",
       "       [ 99300],\n",
       "       [ 69100],\n",
       "       [188000],\n",
       "       [182000],\n",
       "       [112300],\n",
       "       [135000],\n",
       "       [139600],\n",
       "       [117800],\n",
       "       [117100],\n",
       "       [117500],\n",
       "       [147000],\n",
       "       [131300],\n",
       "       [108200],\n",
       "       [106600],\n",
       "       [133600],\n",
       "       [105600],\n",
       "       [154000],\n",
       "       [166500],\n",
       "       [103200],\n",
       "       [129800],\n",
       "       [ 90300],\n",
       "       [115900],\n",
       "       [107500],\n",
       "       [151100],\n",
       "       [ 91100],\n",
       "       [117400],\n",
       "       [130800],\n",
       "       [ 81300],\n",
       "       [125700],\n",
       "       [140900],\n",
       "       [152300],\n",
       "       [138100],\n",
       "       [155400],\n",
       "       [180900],\n",
       "       [100900],\n",
       "       [161300],\n",
       "       [120500],\n",
       "       [130300],\n",
       "       [111100],\n",
       "       [126200],\n",
       "       [151900],\n",
       "       [ 93600],\n",
       "       [165600],\n",
       "       [166700],\n",
       "       [157600],\n",
       "       [107300],\n",
       "       [125700],\n",
       "       [144200],\n",
       "       [106900],\n",
       "       [129800],\n",
       "       [176500],\n",
       "       [121300],\n",
       "       [143600],\n",
       "       [143400],\n",
       "       [184300],\n",
       "       [164800],\n",
       "       [147700],\n",
       "       [ 90500],\n",
       "       [188300],\n",
       "       [102700],\n",
       "       [172500],\n",
       "       [127700],\n",
       "       [ 97800],\n",
       "       [143100],\n",
       "       [116500],\n",
       "       [142600],\n",
       "       [157100],\n",
       "       [160600],\n",
       "       [152500],\n",
       "       [133300],\n",
       "       [126800],\n",
       "       [145500],\n",
       "       [171000],\n",
       "       [103200],\n",
       "       [123100],\n",
       "       [136800],\n",
       "       [211200],\n",
       "       [ 82300],\n",
       "       [146900],\n",
       "       [108500],\n",
       "       [134000],\n",
       "       [117000],\n",
       "       [108700],\n",
       "       [111600],\n",
       "       [114900],\n",
       "       [123600],\n",
       "       [115700],\n",
       "       [124500],\n",
       "       [102500],\n",
       "       [199500],\n",
       "       [117800],\n",
       "       [150200],\n",
       "       [109700],\n",
       "       [110400],\n",
       "       [105600],\n",
       "       [144800],\n",
       "       [119700],\n",
       "       [147900],\n",
       "       [113500],\n",
       "       [149900],\n",
       "       [124600]], dtype=int64)"
      ]
     },
     "execution_count": 25,
     "metadata": {},
     "output_type": "execute_result"
    }
   ],
   "source": [
    "Y_l = data.iloc[:,0:1].values\n",
    "Y_l"
   ]
  },
  {
   "cell_type": "code",
   "execution_count": 26,
   "metadata": {},
   "outputs": [
    {
     "data": {
      "image/png": "[encoded data removed]",
      "text/plain": [
       "<Figure size 640x480 with 1 Axes>"
      ]
     },
     "metadata": {},
     "output_type": "display_data"
    }
   ],
   "source": [
    "plt.scatter(X_l, Y_l, alpha=0.5)\n",
    "plt.title('Scatter plot')\n",
    "plt.xlabel('Sq.Ft.')\n",
    "plt.ylabel('Price')\n",
    "plt.show()"
   ]
  },
  {
   "cell_type": "markdown",
   "metadata": {},
   "source": [
    "Using this scatter plot we can infer that if a house has higher Sq. Ft. area then that house may have more expensive.\n",
    "There is somewhat positive linear relationship between them."
   ]
  },
  {
   "cell_type": "markdown",
   "metadata": {},
   "source": [
    "## MODEL 1"
   ]
  },
  {
   "cell_type": "markdown",
   "metadata": {},
   "source": [
    "## USING SIMPLE LINEAR REGRESSION"
   ]
  },
  {
   "cell_type": "code",
   "execution_count": 34,
   "metadata": {},
   "outputs": [],
   "source": [
    "from sklearn.model_selection import train_test_split\n",
    "Xl_train, Xl_test, yl_train, yl_test = train_test_split(X_l, Y_l, test_size = 0.2, random_state = 0)"
   ]
  },
  {
   "cell_type": "code",
   "execution_count": 35,
   "metadata": {},
   "outputs": [
    {
     "data": {
      "text/html": [
       "<style>#sk-container-id-1 {color: black;}#sk-container-id-1 pre{padding: 0;}#sk-container-id-1 div.sk-toggleable {background-color: white;}#sk-container-id-1 label.sk-toggleable__label {cursor: pointer;display: block;width: 100%;margin-bottom: 0;padding: 0.3em;box-sizing: border-box;text-align: center;}#sk-container-id-1 label.sk-toggleable__label-arrow:before {content: \"▸\";float: left;margin-right: 0.25em;color: #696969;}#sk-container-id-1 label.sk-toggleable__label-arrow:hover:before {color: black;}#sk-container-id-1 div.sk-estimator:hover label.sk-toggleable__label-arrow:before {color: black;}#sk-container-id-1 div.sk-toggleable__content {max-height: 0;max-width: 0;overflow: hidden;text-align: left;background-color: #f0f8ff;}#sk-container-id-1 div.sk-toggleable__content pre {margin: 0.2em;color: black;border-radius: 0.25em;background-color: #f0f8ff;}#sk-container-id-1 input.sk-toggleable__control:checked~div.sk-toggleable__content {max-height: 200px;max-width: 100%;overflow: auto;}#sk-container-id-1 input.sk-toggleable__control:checked~label.sk-toggleable__label-arrow:before {content: \"▾\";}#sk-container-id-1 div.sk-estimator input.sk-toggleable__control:checked~label.sk-toggleable__label {background-color: #d4ebff;}#sk-container-id-1 div.sk-label input.sk-toggleable__control:checked~label.sk-toggleable__label {background-color: #d4ebff;}#sk-container-id-1 input.sk-hidden--visually {border: 0;clip: rect(1px 1px 1px 1px);clip: rect(1px, 1px, 1px, 1px);height: 1px;margin: -1px;overflow: hidden;padding: 0;position: absolute;width: 1px;}#sk-container-id-1 div.sk-estimator {font-family: monospace;background-color: #f0f8ff;border: 1px dotted black;border-radius: 0.25em;box-sizing: border-box;margin-bottom: 0.5em;}#sk-container-id-1 div.sk-estimator:hover {background-color: #d4ebff;}#sk-container-id-1 div.sk-parallel-item::after {content: \"\";width: 100%;border-bottom: 1px solid gray;flex-grow: 1;}#sk-container-id-1 div.sk-label:hover label.sk-toggleable__label {background-color: #d4ebff;}#sk-container-id-1 div.sk-serial::before {content: \"\";position: absolute;border-left: 1px solid gray;box-sizing: border-box;top: 0;bottom: 0;left: 50%;z-index: 0;}#sk-container-id-1 div.sk-serial {display: flex;flex-direction: column;align-items: center;background-color: white;padding-right: 0.2em;padding-left: 0.2em;position: relative;}#sk-container-id-1 div.sk-item {position: relative;z-index: 1;}#sk-container-id-1 div.sk-parallel {display: flex;align-items: stretch;justify-content: center;background-color: white;position: relative;}#sk-container-id-1 div.sk-item::before, #sk-container-id-1 div.sk-parallel-item::before {content: \"\";position: absolute;border-left: 1px solid gray;box-sizing: border-box;top: 0;bottom: 0;left: 50%;z-index: -1;}#sk-container-id-1 div.sk-parallel-item {display: flex;flex-direction: column;z-index: 1;position: relative;background-color: white;}#sk-container-id-1 div.sk-parallel-item:first-child::after {align-self: flex-end;width: 50%;}#sk-container-id-1 div.sk-parallel-item:last-child::after {align-self: flex-start;width: 50%;}#sk-container-id-1 div.sk-parallel-item:only-child::after {width: 0;}#sk-container-id-1 div.sk-dashed-wrapped {border: 1px dashed gray;margin: 0 0.4em 0.5em 0.4em;box-sizing: border-box;padding-bottom: 0.4em;background-color: white;}#sk-container-id-1 div.sk-label label {font-family: monospace;font-weight: bold;display: inline-block;line-height: 1.2em;}#sk-container-id-1 div.sk-label-container {text-align: center;}#sk-container-id-1 div.sk-container {/* jupyter's `normalize.less` sets `[hidden] { display: none; }` but bootstrap.min.css set `[hidden] { display: none !important; }` so we also need the `!important` here to be able to override the default hidden behavior on the sphinx rendered scikit-learn.org. See: https://github.com/scikit-learn/scikit-learn/issues/21755 */display: inline-block !important;position: relative;}#sk-container-id-1 div.sk-text-repr-fallback {display: none;}</style><div id=\"sk-container-id-1\" class=\"sk-top-container\"><div class=\"sk-text-repr-fallback\"><pre>LinearRegression()</pre><b>In a Jupyter environment, please rerun this cell to show the HTML representation or trust the notebook. <br />On GitHub, the HTML representation is unable to render, please try loading this page with nbviewer.org.</b></div><div class=\"sk-container\" hidden><div class=\"sk-item\"><div class=\"sk-estimator sk-toggleable\"><input class=\"sk-toggleable__control sk-hidden--visually\" id=\"sk-estimator-id-1\" type=\"checkbox\" checked><label for=\"sk-estimator-id-1\" class=\"sk-toggleable__label sk-toggleable__label-arrow\">LinearRegression</label><div class=\"sk-toggleable__content\"><pre>LinearRegression()</pre></div></div></div></div></div>"
      ],
      "text/plain": [
       "LinearRegression()"
      ]
     },
     "execution_count": 35,
     "metadata": {},
     "output_type": "execute_result"
    }
   ],
   "source": [
    "from sklearn.linear_model import LinearRegression\n",
    "from sklearn.metrics import mean_squared_error, r2_score\n",
    "\n",
    "# Model initialization\n",
    "simple_model = LinearRegression()\n",
    "\n",
    "# Fit the data(train the model)\n",
    "simple_model.fit(Xl_train, yl_train)"
   ]
  },
  {
   "cell_type": "code",
   "execution_count": 36,
   "metadata": {},
   "outputs": [],
   "source": [
    "# Predict\n",
    "y_predicted = simple_model.predict(Xl_test)\n",
    "\n",
    "# model evaluation\n",
    "rmse = np.sqrt(mean_squared_error(yl_test, y_predicted))\n",
    "r2 = r2_score(yl_test, y_predicted)"
   ]
  },
  {
   "cell_type": "code",
   "execution_count": 38,
   "metadata": {},
   "outputs": [
    {
     "name": "stdout",
     "output_type": "stream",
     "text": [
      "Slope: [[70.88361304]]\n",
      "Intercept: [-10062.74046837]\n",
      "Root mean squared error:  21778.503395446114\n",
      "R2 score:  0.267641411848063\n"
     ]
    }
   ],
   "source": [
    "# printing values\n",
    "print('Slope:' ,simple_model.coef_)\n",
    "print('Intercept:', simple_model.intercept_)\n",
    "print('Root mean squared error: ', rmse)\n",
    "print('R2 score: ', r2)"
   ]
  },
  {
   "cell_type": "markdown",
   "metadata": {},
   "source": [
    ">  **Interpretation**:\n",
    "\n",
    "This simple linear regression with single variable (y = mx+b) has \n",
    "* Slope of the line(m) : [[70.88361304]]\n",
    "* Intercept (b) : [-10062.74046837]\n",
    "* R2 score: 0.267641411848063  (For R2 score more is better in the range [0,1])\n",
    "* Root mean squared error: 21778.503395446114 (Lower is better)\n"
   ]
  },
  {
   "cell_type": "markdown",
   "metadata": {},
   "source": [
    "**The plot of simple linear regression :**"
   ]
  },
  {
   "cell_type": "code",
   "execution_count": 39,
   "metadata": {},
   "outputs": [
    {
     "data": {
      "image/png": "[encoded data removed]",
      "text/plain": [
       "<Figure size 640x480 with 1 Axes>"
      ]
     },
     "metadata": {},
     "output_type": "display_data"
    }
   ],
   "source": [
    "# data points\n",
    "plt.scatter(Xl_train, yl_train, s=10)\n",
    "plt.xlabel('Sq. Ft.')\n",
    "plt.ylabel('Price')\n",
    "\n",
    "# predicted values\n",
    "plt.plot(Xl_test, y_predicted, color='r')\n",
    "plt.show()"
   ]
  },
  {
   "cell_type": "markdown",
   "metadata": {},
   "source": [
    "## MODEL 2"
   ]
  },
  {
   "cell_type": "markdown",
   "metadata": {},
   "source": [
    "## MULTIPLE LINEAR REGRESSION !"
   ]
  },
  {
   "cell_type": "code",
   "execution_count": 43,
   "metadata": {},
   "outputs": [
    {
     "data": {
      "text/html": [
       "<div>\n",
       "<style scoped>\n",
       "    .dataframe tbody tr th:only-of-type {\n",
       "        vertical-align: middle;\n",
       "    }\n",
       "\n",
       "    .dataframe tbody tr th {\n",
       "        vertical-align: top;\n",
       "    }\n",
       "\n",
       "    .dataframe thead th {\n",
       "        text-align: right;\n",
       "    }\n",
       "</style>\n",
       "<table border=\"1\" class=\"dataframe\">\n",
       "  <thead>\n",
       "    <tr style=\"text-align: right;\">\n",
       "      <th></th>\n",
       "      <th>Price</th>\n",
       "      <th>SqFt</th>\n",
       "      <th>Bedrooms</th>\n",
       "      <th>Bathrooms</th>\n",
       "      <th>Offers</th>\n",
       "      <th>Brick</th>\n",
       "    </tr>\n",
       "  </thead>\n",
       "  <tbody>\n",
       "    <tr>\n",
       "      <th>123</th>\n",
       "      <td>119700</td>\n",
       "      <td>1900</td>\n",
       "      <td>3</td>\n",
       "      <td>3</td>\n",
       "      <td>3</td>\n",
       "      <td>1</td>\n",
       "    </tr>\n",
       "    <tr>\n",
       "      <th>124</th>\n",
       "      <td>147900</td>\n",
       "      <td>2160</td>\n",
       "      <td>4</td>\n",
       "      <td>3</td>\n",
       "      <td>3</td>\n",
       "      <td>1</td>\n",
       "    </tr>\n",
       "    <tr>\n",
       "      <th>125</th>\n",
       "      <td>113500</td>\n",
       "      <td>2070</td>\n",
       "      <td>2</td>\n",
       "      <td>2</td>\n",
       "      <td>2</td>\n",
       "      <td>0</td>\n",
       "    </tr>\n",
       "    <tr>\n",
       "      <th>126</th>\n",
       "      <td>149900</td>\n",
       "      <td>2020</td>\n",
       "      <td>3</td>\n",
       "      <td>3</td>\n",
       "      <td>1</td>\n",
       "      <td>0</td>\n",
       "    </tr>\n",
       "    <tr>\n",
       "      <th>127</th>\n",
       "      <td>124600</td>\n",
       "      <td>2250</td>\n",
       "      <td>3</td>\n",
       "      <td>3</td>\n",
       "      <td>4</td>\n",
       "      <td>0</td>\n",
       "    </tr>\n",
       "  </tbody>\n",
       "</table>\n",
       "</div>"
      ],
      "text/plain": [
       "      Price  SqFt  Bedrooms  Bathrooms  Offers  Brick\n",
       "123  119700  1900         3          3       3      1\n",
       "124  147900  2160         4          3       3      1\n",
       "125  113500  2070         2          2       2      0\n",
       "126  149900  2020         3          3       1      0\n",
       "127  124600  2250         3          3       4      0"
      ]
     },
     "execution_count": 43,
     "metadata": {},
     "output_type": "execute_result"
    }
   ],
   "source": [
    "df_l.tail()"
   ]
  },
  {
   "cell_type": "code",
   "execution_count": 48,
   "metadata": {},
   "outputs": [
    {
     "data": {
      "text/plain": [
       "array([[1790,    2,    2,    2,    0],\n",
       "       [2030,    4,    2,    3,    0],\n",
       "       [1740,    3,    2,    1,    0],\n",
       "       [1980,    3,    2,    3,    0],\n",
       "       [2130,    3,    3,    3,    0],\n",
       "       [1780,    3,    2,    2,    0],\n",
       "       [1830,    3,    3,    3,    1],\n",
       "       [2160,    4,    2,    2,    0],\n",
       "       [2110,    4,    2,    3,    0],\n",
       "       [1730,    3,    3,    3,    0],\n",
       "       [2030,    3,    2,    3,    1],\n",
       "       [1870,    2,    2,    2,    1],\n",
       "       [1910,    3,    2,    4,    0],\n",
       "       [2150,    3,    3,    5,    1],\n",
       "       [2590,    4,    3,    4,    0],\n",
       "       [1780,    4,    2,    1,    0],\n",
       "       [2190,    3,    3,    4,    1],\n",
       "       [1990,    3,    3,    4,    0],\n",
       "       [1700,    2,    2,    1,    1],\n",
       "       [1920,    3,    3,    2,    1],\n",
       "       [1790,    3,    2,    3,    0],\n",
       "       [2000,    3,    2,    4,    0],\n",
       "       [1690,    3,    2,    3,    0],\n",
       "       [1820,    3,    2,    3,    1],\n",
       "       [2210,    4,    3,    2,    1],\n",
       "       [2290,    4,    3,    3,    0],\n",
       "       [2000,    4,    2,    3,    0],\n",
       "       [1700,    3,    2,    2,    0],\n",
       "       [1600,    2,    2,    3,    0],\n",
       "       [2040,    4,    3,    1,    1],\n",
       "       [2250,    4,    3,    3,    1],\n",
       "       [1930,    2,    2,    2,    1],\n",
       "       [2250,    3,    3,    3,    1],\n",
       "       [2280,    5,    3,    4,    1],\n",
       "       [2000,    2,    2,    3,    0],\n",
       "       [2080,    3,    3,    3,    0],\n",
       "       [1880,    2,    2,    2,    0],\n",
       "       [2420,    4,    3,    4,    0],\n",
       "       [1720,    3,    2,    1,    0],\n",
       "       [1740,    3,    2,    2,    0],\n",
       "       [1560,    2,    2,    1,    0],\n",
       "       [1840,    4,    3,    2,    0],\n",
       "       [1990,    2,    2,    3,    0],\n",
       "       [1920,    3,    2,    1,    1],\n",
       "       [1940,    3,    3,    2,    1],\n",
       "       [1810,    3,    2,    3,    0],\n",
       "       [1990,    2,    3,    2,    0],\n",
       "       [2050,    3,    2,    6,    0],\n",
       "       [1980,    2,    2,    2,    0],\n",
       "       [1700,    3,    2,    3,    1],\n",
       "       [2100,    3,    2,    3,    1],\n",
       "       [1860,    2,    2,    3,    0],\n",
       "       [2150,    2,    3,    4,    0],\n",
       "       [2100,    3,    2,    3,    0],\n",
       "       [1650,    3,    2,    3,    0],\n",
       "       [1720,    2,    2,    2,    1],\n",
       "       [2190,    3,    2,    3,    1],\n",
       "       [2240,    4,    3,    3,    0],\n",
       "       [1840,    3,    3,    1,    0],\n",
       "       [2090,    4,    2,    1,    0],\n",
       "       [2200,    3,    3,    1,    0],\n",
       "       [1610,    2,    2,    2,    0],\n",
       "       [2220,    4,    3,    2,    0],\n",
       "       [1910,    2,    3,    2,    0],\n",
       "       [1860,    3,    2,    2,    0],\n",
       "       [1450,    2,    2,    1,    1],\n",
       "       [2210,    3,    3,    4,    0],\n",
       "       [2040,    4,    3,    3,    0],\n",
       "       [2140,    3,    2,    4,    0],\n",
       "       [2080,    4,    3,    3,    0],\n",
       "       [1950,    3,    3,    3,    1],\n",
       "       [2160,    4,    2,    1,    0],\n",
       "       [1650,    3,    2,    3,    0],\n",
       "       [2040,    3,    3,    2,    0],\n",
       "       [2140,    3,    3,    3,    0],\n",
       "       [1900,    2,    2,    2,    0],\n",
       "       [1930,    3,    2,    2,    0],\n",
       "       [2280,    4,    3,    3,    1],\n",
       "       [2130,    3,    2,    3,    0],\n",
       "       [1780,    4,    2,    1,    0],\n",
       "       [2190,    3,    3,    4,    1],\n",
       "       [2140,    4,    3,    2,    1],\n",
       "       [2050,    2,    2,    1,    1],\n",
       "       [2410,    3,    3,    2,    0],\n",
       "       [1520,    2,    2,    3,    0],\n",
       "       [2250,    4,    3,    2,    1],\n",
       "       [1900,    4,    2,    4,    0],\n",
       "       [1880,    3,    3,    1,    1],\n",
       "       [1930,    3,    3,    2,    0],\n",
       "       [2010,    2,    2,    4,    0],\n",
       "       [1920,    4,    2,    2,    0],\n",
       "       [2150,    3,    2,    2,    0],\n",
       "       [2110,    3,    2,    2,    0],\n",
       "       [2080,    3,    3,    2,    0],\n",
       "       [2150,    4,    3,    3,    1],\n",
       "       [1970,    2,    2,    1,    1],\n",
       "       [2440,    3,    3,    3,    0],\n",
       "       [2000,    2,    2,    1,    1],\n",
       "       [2060,    3,    2,    1,    0],\n",
       "       [2080,    3,    3,    2,    1],\n",
       "       [2010,    3,    2,    5,    0],\n",
       "       [2260,    3,    3,    5,    0],\n",
       "       [2410,    3,    3,    4,    0],\n",
       "       [2440,    4,    3,    3,    1],\n",
       "       [1910,    3,    2,    4,    0],\n",
       "       [2530,    4,    3,    4,    0],\n",
       "       [2130,    3,    2,    4,    0],\n",
       "       [1890,    3,    2,    1,    1],\n",
       "       [1990,    3,    3,    3,    1],\n",
       "       [2110,    3,    2,    3,    0],\n",
       "       [1710,    2,    2,    1,    0],\n",
       "       [1740,    2,    2,    2,    0],\n",
       "       [1940,    2,    2,    2,    1],\n",
       "       [2000,    3,    2,    3,    1],\n",
       "       [2010,    4,    3,    2,    0],\n",
       "       [1900,    3,    3,    3,    0],\n",
       "       [2290,    5,    4,    1,    1],\n",
       "       [1920,    3,    2,    2,    0],\n",
       "       [1950,    3,    2,    3,    1],\n",
       "       [1920,    2,    2,    4,    0],\n",
       "       [1930,    2,    3,    3,    0],\n",
       "       [1930,    3,    3,    3,    0],\n",
       "       [2060,    2,    2,    1,    1],\n",
       "       [1900,    3,    3,    3,    1],\n",
       "       [2160,    4,    3,    3,    1],\n",
       "       [2070,    2,    2,    2,    0],\n",
       "       [2020,    3,    3,    1,    0],\n",
       "       [2250,    3,    3,    4,    0]], dtype=int64)"
      ]
     },
     "execution_count": 48,
     "metadata": {},
     "output_type": "execute_result"
    }
   ],
   "source": [
    "x_m = df_l.drop(['Price'],axis=1).values\n",
    "x_m"
   ]
  },
  {
   "cell_type": "code",
   "execution_count": 50,
   "metadata": {},
   "outputs": [
    {
     "data": {
      "text/plain": [
       "array([114300, 114200, 114800,  94700, 119800, 114600, 151600, 150700,\n",
       "       119200, 104000, 132500, 123000, 102600, 126300, 176800, 145800,\n",
       "       147100,  83600, 111400, 167200, 116200, 113800,  91700, 106100,\n",
       "       156400, 149300, 137000,  99300,  69100, 188000, 182000, 112300,\n",
       "       135000, 139600, 117800, 117100, 117500, 147000, 131300, 108200,\n",
       "       106600, 133600, 105600, 154000, 166500, 103200, 129800,  90300,\n",
       "       115900, 107500, 151100,  91100, 117400, 130800,  81300, 125700,\n",
       "       140900, 152300, 138100, 155400, 180900, 100900, 161300, 120500,\n",
       "       130300, 111100, 126200, 151900,  93600, 165600, 166700, 157600,\n",
       "       107300, 125700, 144200, 106900, 129800, 176500, 121300, 143600,\n",
       "       143400, 184300, 164800, 147700,  90500, 188300, 102700, 172500,\n",
       "       127700,  97800, 143100, 116500, 142600, 157100, 160600, 152500,\n",
       "       133300, 126800, 145500, 171000, 103200, 123100, 136800, 211200,\n",
       "        82300, 146900, 108500, 134000, 117000, 108700, 111600, 114900,\n",
       "       123600, 115700, 124500, 102500, 199500, 117800, 150200, 109700,\n",
       "       110400, 105600, 144800, 119700, 147900, 113500, 149900, 124600],\n",
       "      dtype=int64)"
      ]
     },
     "execution_count": 50,
     "metadata": {},
     "output_type": "execute_result"
    }
   ],
   "source": [
    "y_m = df_l['Price'].values\n",
    "y_m"
   ]
  },
  {
   "cell_type": "code",
   "execution_count": 51,
   "metadata": {},
   "outputs": [],
   "source": [
    "from sklearn.model_selection import train_test_split\n",
    "Xm_train, Xm_test, ym_train, ym_test = train_test_split(x_m, y_m, test_size = 0.2, random_state = 0)"
   ]
  },
  {
   "cell_type": "code",
   "execution_count": 52,
   "metadata": {},
   "outputs": [
    {
     "data": {
      "text/html": [
       "<style>#sk-container-id-2 {color: black;}#sk-container-id-2 pre{padding: 0;}#sk-container-id-2 div.sk-toggleable {background-color: white;}#sk-container-id-2 label.sk-toggleable__label {cursor: pointer;display: block;width: 100%;margin-bottom: 0;padding: 0.3em;box-sizing: border-box;text-align: center;}#sk-container-id-2 label.sk-toggleable__label-arrow:before {content: \"▸\";float: left;margin-right: 0.25em;color: #696969;}#sk-container-id-2 label.sk-toggleable__label-arrow:hover:before {color: black;}#sk-container-id-2 div.sk-estimator:hover label.sk-toggleable__label-arrow:before {color: black;}#sk-container-id-2 div.sk-toggleable__content {max-height: 0;max-width: 0;overflow: hidden;text-align: left;background-color: #f0f8ff;}#sk-container-id-2 div.sk-toggleable__content pre {margin: 0.2em;color: black;border-radius: 0.25em;background-color: #f0f8ff;}#sk-container-id-2 input.sk-toggleable__control:checked~div.sk-toggleable__content {max-height: 200px;max-width: 100%;overflow: auto;}#sk-container-id-2 input.sk-toggleable__control:checked~label.sk-toggleable__label-arrow:before {content: \"▾\";}#sk-container-id-2 div.sk-estimator input.sk-toggleable__control:checked~label.sk-toggleable__label {background-color: #d4ebff;}#sk-container-id-2 div.sk-label input.sk-toggleable__control:checked~label.sk-toggleable__label {background-color: #d4ebff;}#sk-container-id-2 input.sk-hidden--visually {border: 0;clip: rect(1px 1px 1px 1px);clip: rect(1px, 1px, 1px, 1px);height: 1px;margin: -1px;overflow: hidden;padding: 0;position: absolute;width: 1px;}#sk-container-id-2 div.sk-estimator {font-family: monospace;background-color: #f0f8ff;border: 1px dotted black;border-radius: 0.25em;box-sizing: border-box;margin-bottom: 0.5em;}#sk-container-id-2 div.sk-estimator:hover {background-color: #d4ebff;}#sk-container-id-2 div.sk-parallel-item::after {content: \"\";width: 100%;border-bottom: 1px solid gray;flex-grow: 1;}#sk-container-id-2 div.sk-label:hover label.sk-toggleable__label {background-color: #d4ebff;}#sk-container-id-2 div.sk-serial::before {content: \"\";position: absolute;border-left: 1px solid gray;box-sizing: border-box;top: 0;bottom: 0;left: 50%;z-index: 0;}#sk-container-id-2 div.sk-serial {display: flex;flex-direction: column;align-items: center;background-color: white;padding-right: 0.2em;padding-left: 0.2em;position: relative;}#sk-container-id-2 div.sk-item {position: relative;z-index: 1;}#sk-container-id-2 div.sk-parallel {display: flex;align-items: stretch;justify-content: center;background-color: white;position: relative;}#sk-container-id-2 div.sk-item::before, #sk-container-id-2 div.sk-parallel-item::before {content: \"\";position: absolute;border-left: 1px solid gray;box-sizing: border-box;top: 0;bottom: 0;left: 50%;z-index: -1;}#sk-container-id-2 div.sk-parallel-item {display: flex;flex-direction: column;z-index: 1;position: relative;background-color: white;}#sk-container-id-2 div.sk-parallel-item:first-child::after {align-self: flex-end;width: 50%;}#sk-container-id-2 div.sk-parallel-item:last-child::after {align-self: flex-start;width: 50%;}#sk-container-id-2 div.sk-parallel-item:only-child::after {width: 0;}#sk-container-id-2 div.sk-dashed-wrapped {border: 1px dashed gray;margin: 0 0.4em 0.5em 0.4em;box-sizing: border-box;padding-bottom: 0.4em;background-color: white;}#sk-container-id-2 div.sk-label label {font-family: monospace;font-weight: bold;display: inline-block;line-height: 1.2em;}#sk-container-id-2 div.sk-label-container {text-align: center;}#sk-container-id-2 div.sk-container {/* jupyter's `normalize.less` sets `[hidden] { display: none; }` but bootstrap.min.css set `[hidden] { display: none !important; }` so we also need the `!important` here to be able to override the default hidden behavior on the sphinx rendered scikit-learn.org. See: https://github.com/scikit-learn/scikit-learn/issues/21755 */display: inline-block !important;position: relative;}#sk-container-id-2 div.sk-text-repr-fallback {display: none;}</style><div id=\"sk-container-id-2\" class=\"sk-top-container\"><div class=\"sk-text-repr-fallback\"><pre>LinearRegression()</pre><b>In a Jupyter environment, please rerun this cell to show the HTML representation or trust the notebook. <br />On GitHub, the HTML representation is unable to render, please try loading this page with nbviewer.org.</b></div><div class=\"sk-container\" hidden><div class=\"sk-item\"><div class=\"sk-estimator sk-toggleable\"><input class=\"sk-toggleable__control sk-hidden--visually\" id=\"sk-estimator-id-2\" type=\"checkbox\" checked><label for=\"sk-estimator-id-2\" class=\"sk-toggleable__label sk-toggleable__label-arrow\">LinearRegression</label><div class=\"sk-toggleable__content\"><pre>LinearRegression()</pre></div></div></div></div></div>"
      ],
      "text/plain": [
       "LinearRegression()"
      ]
     },
     "execution_count": 52,
     "metadata": {},
     "output_type": "execute_result"
    }
   ],
   "source": [
    "from sklearn.linear_model import LinearRegression\n",
    "from sklearn.metrics import mean_squared_error, r2_score\n",
    "\n",
    "# Model initialization\n",
    "multiple_model = LinearRegression()\n",
    "\n",
    "# Fit the data(train the model)\n",
    "multiple_model.fit(Xm_train, ym_train)"
   ]
  },
  {
   "cell_type": "code",
   "execution_count": 53,
   "metadata": {},
   "outputs": [],
   "source": [
    "# Predict\n",
    "y_predictedm = multiple_model.predict(Xm_test)\n",
    "\n",
    "# model evaluation\n",
    "rmse = np.sqrt(mean_squared_error(ym_test, y_predictedm))\n",
    "r2 = r2_score(ym_test, y_predictedm)"
   ]
  },
  {
   "cell_type": "code",
   "execution_count": 54,
   "metadata": {},
   "outputs": [
    {
     "name": "stdout",
     "output_type": "stream",
     "text": [
      "Root mean squared error:  13346.928621871499\n",
      "R2 score:  0.724938130407125\n"
     ]
    }
   ],
   "source": [
    "# printing values\n",
    "print('Root mean squared error: ', rmse)\n",
    "print('R2 score: ', r2)"
   ]
  },
  {
   "cell_type": "code",
   "execution_count": 57,
   "metadata": {},
   "outputs": [
    {
     "data": {
      "image/png": "[encoded data removed]",
      "text/plain": [
       "<Figure size 640x480 with 1 Axes>"
      ]
     },
     "metadata": {},
     "output_type": "display_data"
    }
   ],
   "source": [
    "# data points\n",
    "plt.scatter(ym_test, y_predictedm, s=10)\n",
    "plt.xlabel('Actual')\n",
    "plt.ylabel('Predicted')\n",
    "\n",
    "plt.show()"
   ]
  },
  {
   "cell_type": "code",
   "execution_count": 59,
   "metadata": {},
   "outputs": [
    {
     "data": {
      "text/html": [
       "<div>\n",
       "<style scoped>\n",
       "    .dataframe tbody tr th:only-of-type {\n",
       "        vertical-align: middle;\n",
       "    }\n",
       "\n",
       "    .dataframe tbody tr th {\n",
       "        vertical-align: top;\n",
       "    }\n",
       "\n",
       "    .dataframe thead th {\n",
       "        text-align: right;\n",
       "    }\n",
       "</style>\n",
       "<table border=\"1\" class=\"dataframe\">\n",
       "  <thead>\n",
       "    <tr style=\"text-align: right;\">\n",
       "      <th></th>\n",
       "      <th>Actual_value</th>\n",
       "      <th>Predicted_value</th>\n",
       "      <th>Difference</th>\n",
       "    </tr>\n",
       "  </thead>\n",
       "  <tbody>\n",
       "    <tr>\n",
       "      <th>0</th>\n",
       "      <td>106600</td>\n",
       "      <td>102579.172085</td>\n",
       "      <td>4020.827915</td>\n",
       "    </tr>\n",
       "    <tr>\n",
       "      <th>1</th>\n",
       "      <td>156400</td>\n",
       "      <td>178580.753938</td>\n",
       "      <td>-22180.753938</td>\n",
       "    </tr>\n",
       "    <tr>\n",
       "      <th>2</th>\n",
       "      <td>102700</td>\n",
       "      <td>109308.923597</td>\n",
       "      <td>-6608.923597</td>\n",
       "    </tr>\n",
       "    <tr>\n",
       "      <th>3</th>\n",
       "      <td>91100</td>\n",
       "      <td>96880.631356</td>\n",
       "      <td>-5780.631356</td>\n",
       "    </tr>\n",
       "    <tr>\n",
       "      <th>4</th>\n",
       "      <td>119200</td>\n",
       "      <td>132868.885653</td>\n",
       "      <td>-13668.885653</td>\n",
       "    </tr>\n",
       "    <tr>\n",
       "      <th>5</th>\n",
       "      <td>117000</td>\n",
       "      <td>143642.580135</td>\n",
       "      <td>-26642.580135</td>\n",
       "    </tr>\n",
       "    <tr>\n",
       "      <th>6</th>\n",
       "      <td>124600</td>\n",
       "      <td>129049.566505</td>\n",
       "      <td>-4449.566505</td>\n",
       "    </tr>\n",
       "    <tr>\n",
       "      <th>7</th>\n",
       "      <td>133300</td>\n",
       "      <td>151458.934578</td>\n",
       "      <td>-18158.934578</td>\n",
       "    </tr>\n",
       "    <tr>\n",
       "      <th>8</th>\n",
       "      <td>125700</td>\n",
       "      <td>139925.780157</td>\n",
       "      <td>-14225.780157</td>\n",
       "    </tr>\n",
       "    <tr>\n",
       "      <th>9</th>\n",
       "      <td>150700</td>\n",
       "      <td>147224.095846</td>\n",
       "      <td>3475.904154</td>\n",
       "    </tr>\n",
       "    <tr>\n",
       "      <th>10</th>\n",
       "      <td>180900</td>\n",
       "      <td>160609.257256</td>\n",
       "      <td>20290.742744</td>\n",
       "    </tr>\n",
       "    <tr>\n",
       "      <th>11</th>\n",
       "      <td>132500</td>\n",
       "      <td>135535.605137</td>\n",
       "      <td>-3035.605137</td>\n",
       "    </tr>\n",
       "    <tr>\n",
       "      <th>12</th>\n",
       "      <td>97800</td>\n",
       "      <td>94031.360991</td>\n",
       "      <td>3768.639009</td>\n",
       "    </tr>\n",
       "    <tr>\n",
       "      <th>13</th>\n",
       "      <td>160600</td>\n",
       "      <td>163650.246754</td>\n",
       "      <td>-3050.246754</td>\n",
       "    </tr>\n",
       "    <tr>\n",
       "      <th>14</th>\n",
       "      <td>182000</td>\n",
       "      <td>169403.216668</td>\n",
       "      <td>12596.783332</td>\n",
       "    </tr>\n",
       "    <tr>\n",
       "      <th>15</th>\n",
       "      <td>139600</td>\n",
       "      <td>170453.297162</td>\n",
       "      <td>-30853.297162</td>\n",
       "    </tr>\n",
       "    <tr>\n",
       "      <th>16</th>\n",
       "      <td>114800</td>\n",
       "      <td>123737.432687</td>\n",
       "      <td>-8937.432687</td>\n",
       "    </tr>\n",
       "    <tr>\n",
       "      <th>17</th>\n",
       "      <td>155400</td>\n",
       "      <td>154675.742142</td>\n",
       "      <td>724.257858</td>\n",
       "    </tr>\n",
       "    <tr>\n",
       "      <th>18</th>\n",
       "      <td>151100</td>\n",
       "      <td>139562.684077</td>\n",
       "      <td>11537.315923</td>\n",
       "    </tr>\n",
       "    <tr>\n",
       "      <th>19</th>\n",
       "      <td>137000</td>\n",
       "      <td>126540.618748</td>\n",
       "      <td>10459.381252</td>\n",
       "    </tr>\n",
       "    <tr>\n",
       "      <th>20</th>\n",
       "      <td>91700</td>\n",
       "      <td>97903.497258</td>\n",
       "      <td>-6203.497258</td>\n",
       "    </tr>\n",
       "    <tr>\n",
       "      <th>21</th>\n",
       "      <td>123100</td>\n",
       "      <td>118146.138260</td>\n",
       "      <td>4953.861740</td>\n",
       "    </tr>\n",
       "    <tr>\n",
       "      <th>22</th>\n",
       "      <td>115900</td>\n",
       "      <td>115262.920489</td>\n",
       "      <td>637.079511</td>\n",
       "    </tr>\n",
       "    <tr>\n",
       "      <th>23</th>\n",
       "      <td>93600</td>\n",
       "      <td>112313.136635</td>\n",
       "      <td>-18713.136635</td>\n",
       "    </tr>\n",
       "    <tr>\n",
       "      <th>24</th>\n",
       "      <td>105600</td>\n",
       "      <td>122118.788016</td>\n",
       "      <td>-16518.788016</td>\n",
       "    </tr>\n",
       "    <tr>\n",
       "      <th>25</th>\n",
       "      <td>144800</td>\n",
       "      <td>149416.031827</td>\n",
       "      <td>-4616.031827</td>\n",
       "    </tr>\n",
       "  </tbody>\n",
       "</table>\n",
       "</div>"
      ],
      "text/plain": [
       "    Actual_value  Predicted_value    Difference\n",
       "0         106600    102579.172085   4020.827915\n",
       "1         156400    178580.753938 -22180.753938\n",
       "2         102700    109308.923597  -6608.923597\n",
       "3          91100     96880.631356  -5780.631356\n",
       "4         119200    132868.885653 -13668.885653\n",
       "5         117000    143642.580135 -26642.580135\n",
       "6         124600    129049.566505  -4449.566505\n",
       "7         133300    151458.934578 -18158.934578\n",
       "8         125700    139925.780157 -14225.780157\n",
       "9         150700    147224.095846   3475.904154\n",
       "10        180900    160609.257256  20290.742744\n",
       "11        132500    135535.605137  -3035.605137\n",
       "12         97800     94031.360991   3768.639009\n",
       "13        160600    163650.246754  -3050.246754\n",
       "14        182000    169403.216668  12596.783332\n",
       "15        139600    170453.297162 -30853.297162\n",
       "16        114800    123737.432687  -8937.432687\n",
       "17        155400    154675.742142    724.257858\n",
       "18        151100    139562.684077  11537.315923\n",
       "19        137000    126540.618748  10459.381252\n",
       "20         91700     97903.497258  -6203.497258\n",
       "21        123100    118146.138260   4953.861740\n",
       "22        115900    115262.920489    637.079511\n",
       "23         93600    112313.136635 -18713.136635\n",
       "24        105600    122118.788016 -16518.788016\n",
       "25        144800    149416.031827  -4616.031827"
      ]
     },
     "execution_count": 59,
     "metadata": {},
     "output_type": "execute_result"
    }
   ],
   "source": [
    "pred_y_Df = pd.DataFrame({'Actual_value':ym_test, 'Predicted_value':y_predictedm, 'Difference':ym_test-y_predictedm})\n",
    "pred_y_Df"
   ]
  },
  {
   "cell_type": "markdown",
   "metadata": {},
   "source": [
    "## MODEL 3"
   ]
  },
  {
   "cell_type": "markdown",
   "metadata": {},
   "source": [
    "## POLYNOMIAL REGRESSION  X_l Y_l"
   ]
  },
  {
   "cell_type": "code",
   "execution_count": 61,
   "metadata": {},
   "outputs": [],
   "source": [
    "from sklearn.model_selection import train_test_split\n",
    "xp_train, xp_test, yp_train, yp_test = train_test_split(X_l, Y_l, test_size = 0.2, random_state = 42)"
   ]
  },
  {
   "cell_type": "code",
   "execution_count": 73,
   "metadata": {},
   "outputs": [
    {
     "data": {
      "text/plain": [
       "array([[1.0000000e+00, 1.9500000e+03, 3.8025000e+06, 7.4148750e+09],\n",
       "       [1.0000000e+00, 2.1300000e+03, 4.5369000e+06, 9.6635970e+09],\n",
       "       [1.0000000e+00, 2.0500000e+03, 4.2025000e+06, 8.6151250e+09],\n",
       "       [1.0000000e+00, 1.7900000e+03, 3.2041000e+06, 5.7353390e+09],\n",
       "       [1.0000000e+00, 1.9100000e+03, 3.6481000e+06, 6.9678710e+09],\n",
       "       [1.0000000e+00, 1.9900000e+03, 3.9601000e+06, 7.8805990e+09],\n",
       "       [1.0000000e+00, 2.0200000e+03, 4.0804000e+06, 8.2424080e+09],\n",
       "       [1.0000000e+00, 2.2100000e+03, 4.8841000e+06, 1.0793861e+10],\n",
       "       [1.0000000e+00, 2.0400000e+03, 4.1616000e+06, 8.4896640e+09],\n",
       "       [1.0000000e+00, 1.7400000e+03, 3.0276000e+06, 5.2680240e+09],\n",
       "       [1.0000000e+00, 2.0100000e+03, 4.0401000e+06, 8.1206010e+09],\n",
       "       [1.0000000e+00, 1.7800000e+03, 3.1684000e+06, 5.6397520e+09],\n",
       "       [1.0000000e+00, 2.2800000e+03, 5.1984000e+06, 1.1852352e+10],\n",
       "       [1.0000000e+00, 1.6900000e+03, 2.8561000e+06, 4.8268090e+09],\n",
       "       [1.0000000e+00, 1.9400000e+03, 3.7636000e+06, 7.3013840e+09],\n",
       "       [1.0000000e+00, 1.4500000e+03, 2.1025000e+06, 3.0486250e+09],\n",
       "       [1.0000000e+00, 1.9700000e+03, 3.8809000e+06, 7.6453730e+09],\n",
       "       [1.0000000e+00, 2.2500000e+03, 5.0625000e+06, 1.1390625e+10],\n",
       "       [1.0000000e+00, 2.2200000e+03, 4.9284000e+06, 1.0941048e+10],\n",
       "       [1.0000000e+00, 1.9300000e+03, 3.7249000e+06, 7.1890570e+09],\n",
       "       [1.0000000e+00, 1.7300000e+03, 2.9929000e+06, 5.1777170e+09],\n",
       "       [1.0000000e+00, 2.2800000e+03, 5.1984000e+06, 1.1852352e+10],\n",
       "       [1.0000000e+00, 2.2100000e+03, 4.8841000e+06, 1.0793861e+10],\n",
       "       [1.0000000e+00, 2.2900000e+03, 5.2441000e+06, 1.2008989e+10],\n",
       "       [1.0000000e+00, 1.9000000e+03, 3.6100000e+06, 6.8590000e+09],\n",
       "       [1.0000000e+00, 1.6000000e+03, 2.5600000e+06, 4.0960000e+09],\n",
       "       [1.0000000e+00, 2.0000000e+03, 4.0000000e+06, 8.0000000e+09],\n",
       "       [1.0000000e+00, 2.1500000e+03, 4.6225000e+06, 9.9383750e+09],\n",
       "       [1.0000000e+00, 2.1000000e+03, 4.4100000e+06, 9.2610000e+09],\n",
       "       [1.0000000e+00, 1.7800000e+03, 3.1684000e+06, 5.6397520e+09],\n",
       "       [1.0000000e+00, 2.1400000e+03, 4.5796000e+06, 9.8003440e+09],\n",
       "       [1.0000000e+00, 2.0400000e+03, 4.1616000e+06, 8.4896640e+09],\n",
       "       [1.0000000e+00, 1.7400000e+03, 3.0276000e+06, 5.2680240e+09],\n",
       "       [1.0000000e+00, 1.7000000e+03, 2.8900000e+06, 4.9130000e+09],\n",
       "       [1.0000000e+00, 2.0800000e+03, 4.3264000e+06, 8.9989120e+09],\n",
       "       [1.0000000e+00, 2.1900000e+03, 4.7961000e+06, 1.0503459e+10],\n",
       "       [1.0000000e+00, 2.0600000e+03, 4.2436000e+06, 8.7418160e+09],\n",
       "       [1.0000000e+00, 2.0000000e+03, 4.0000000e+06, 8.0000000e+09],\n",
       "       [1.0000000e+00, 2.2500000e+03, 5.0625000e+06, 1.1390625e+10],\n",
       "       [1.0000000e+00, 2.1600000e+03, 4.6656000e+06, 1.0077696e+10],\n",
       "       [1.0000000e+00, 1.9200000e+03, 3.6864000e+06, 7.0778880e+09],\n",
       "       [1.0000000e+00, 1.9300000e+03, 3.7249000e+06, 7.1890570e+09],\n",
       "       [1.0000000e+00, 1.9400000e+03, 3.7636000e+06, 7.3013840e+09],\n",
       "       [1.0000000e+00, 1.9900000e+03, 3.9601000e+06, 7.8805990e+09],\n",
       "       [1.0000000e+00, 2.1100000e+03, 4.4521000e+06, 9.3939310e+09],\n",
       "       [1.0000000e+00, 2.1500000e+03, 4.6225000e+06, 9.9383750e+09],\n",
       "       [1.0000000e+00, 2.0800000e+03, 4.3264000e+06, 8.9989120e+09],\n",
       "       [1.0000000e+00, 1.9800000e+03, 3.9204000e+06, 7.7623920e+09],\n",
       "       [1.0000000e+00, 1.9900000e+03, 3.9601000e+06, 7.8805990e+09],\n",
       "       [1.0000000e+00, 1.7200000e+03, 2.9584000e+06, 5.0884480e+09],\n",
       "       [1.0000000e+00, 1.6500000e+03, 2.7225000e+06, 4.4921250e+09],\n",
       "       [1.0000000e+00, 2.0100000e+03, 4.0401000e+06, 8.1206010e+09],\n",
       "       [1.0000000e+00, 1.8300000e+03, 3.3489000e+06, 6.1284870e+09],\n",
       "       [1.0000000e+00, 2.4100000e+03, 5.8081000e+06, 1.3997521e+10],\n",
       "       [1.0000000e+00, 1.7100000e+03, 2.9241000e+06, 5.0002110e+09],\n",
       "       [1.0000000e+00, 1.9200000e+03, 3.6864000e+06, 7.0778880e+09],\n",
       "       [1.0000000e+00, 1.6500000e+03, 2.7225000e+06, 4.4921250e+09],\n",
       "       [1.0000000e+00, 2.1000000e+03, 4.4100000e+06, 9.2610000e+09],\n",
       "       [1.0000000e+00, 1.9200000e+03, 3.6864000e+06, 7.0778880e+09],\n",
       "       [1.0000000e+00, 1.9900000e+03, 3.9601000e+06, 7.8805990e+09],\n",
       "       [1.0000000e+00, 1.9000000e+03, 3.6100000e+06, 6.8590000e+09],\n",
       "       [1.0000000e+00, 1.6100000e+03, 2.5921000e+06, 4.1732810e+09],\n",
       "       [1.0000000e+00, 2.1600000e+03, 4.6656000e+06, 1.0077696e+10],\n",
       "       [1.0000000e+00, 1.7800000e+03, 3.1684000e+06, 5.6397520e+09],\n",
       "       [1.0000000e+00, 2.2600000e+03, 5.1076000e+06, 1.1543176e+10],\n",
       "       [1.0000000e+00, 1.8400000e+03, 3.3856000e+06, 6.2295040e+09],\n",
       "       [1.0000000e+00, 1.8400000e+03, 3.3856000e+06, 6.2295040e+09],\n",
       "       [1.0000000e+00, 1.9200000e+03, 3.6864000e+06, 7.0778880e+09],\n",
       "       [1.0000000e+00, 1.9800000e+03, 3.9204000e+06, 7.7623920e+09],\n",
       "       [1.0000000e+00, 1.9300000e+03, 3.7249000e+06, 7.1890570e+09],\n",
       "       [1.0000000e+00, 2.1100000e+03, 4.4521000e+06, 9.3939310e+09],\n",
       "       [1.0000000e+00, 2.2400000e+03, 5.0176000e+06, 1.1239424e+10],\n",
       "       [1.0000000e+00, 1.9000000e+03, 3.6100000e+06, 6.8590000e+09],\n",
       "       [1.0000000e+00, 2.2500000e+03, 5.0625000e+06, 1.1390625e+10],\n",
       "       [1.0000000e+00, 1.9300000e+03, 3.7249000e+06, 7.1890570e+09],\n",
       "       [1.0000000e+00, 2.0900000e+03, 4.3681000e+06, 9.1293290e+09],\n",
       "       [1.0000000e+00, 1.9100000e+03, 3.6481000e+06, 6.9678710e+09],\n",
       "       [1.0000000e+00, 1.8900000e+03, 3.5721000e+06, 6.7512690e+09],\n",
       "       [1.0000000e+00, 2.4200000e+03, 5.8564000e+06, 1.4172488e+10],\n",
       "       [1.0000000e+00, 2.0400000e+03, 4.1616000e+06, 8.4896640e+09],\n",
       "       [1.0000000e+00, 2.0100000e+03, 4.0401000e+06, 8.1206010e+09],\n",
       "       [1.0000000e+00, 2.0300000e+03, 4.1209000e+06, 8.3654270e+09],\n",
       "       [1.0000000e+00, 2.1500000e+03, 4.6225000e+06, 9.9383750e+09],\n",
       "       [1.0000000e+00, 2.0000000e+03, 4.0000000e+06, 8.0000000e+09],\n",
       "       [1.0000000e+00, 1.7400000e+03, 3.0276000e+06, 5.2680240e+09],\n",
       "       [1.0000000e+00, 1.8200000e+03, 3.3124000e+06, 6.0285680e+09],\n",
       "       [1.0000000e+00, 2.4400000e+03, 5.9536000e+06, 1.4526784e+10],\n",
       "       [1.0000000e+00, 2.0800000e+03, 4.3264000e+06, 8.9989120e+09],\n",
       "       [1.0000000e+00, 1.8800000e+03, 3.5344000e+06, 6.6446720e+09],\n",
       "       [1.0000000e+00, 2.2900000e+03, 5.2441000e+06, 1.2008989e+10],\n",
       "       [1.0000000e+00, 2.1400000e+03, 4.5796000e+06, 9.8003440e+09],\n",
       "       [1.0000000e+00, 1.9000000e+03, 3.6100000e+06, 6.8590000e+09],\n",
       "       [1.0000000e+00, 2.0500000e+03, 4.2025000e+06, 8.6151250e+09],\n",
       "       [1.0000000e+00, 2.2500000e+03, 5.0625000e+06, 1.1390625e+10],\n",
       "       [1.0000000e+00, 1.7900000e+03, 3.2041000e+06, 5.7353390e+09],\n",
       "       [1.0000000e+00, 2.2000000e+03, 4.8400000e+06, 1.0648000e+10],\n",
       "       [1.0000000e+00, 2.1600000e+03, 4.6656000e+06, 1.0077696e+10],\n",
       "       [1.0000000e+00, 2.1300000e+03, 4.5369000e+06, 9.6635970e+09],\n",
       "       [1.0000000e+00, 2.5900000e+03, 6.7081000e+06, 1.7373979e+10],\n",
       "       [1.0000000e+00, 2.1100000e+03, 4.4521000e+06, 9.3939310e+09],\n",
       "       [1.0000000e+00, 1.8600000e+03, 3.4596000e+06, 6.4348560e+09],\n",
       "       [1.0000000e+00, 2.4100000e+03, 5.8081000e+06, 1.3997521e+10]])"
      ]
     },
     "execution_count": 73,
     "metadata": {},
     "output_type": "execute_result"
    }
   ],
   "source": [
    "# Add the polynomial term to the equation/model.\n",
    "\n",
    "from sklearn.preprocessing import PolynomialFeatures\n",
    "\n",
    "polynom = PolynomialFeatures(degree=3)\n",
    "\n",
    "x_polynom = polynom.fit_transform(xp_train)\n",
    "\n",
    "x_polynom"
   ]
  },
  {
   "cell_type": "code",
   "execution_count": 71,
   "metadata": {},
   "outputs": [
    {
     "data": {
      "text/html": [
       "<style>#sk-container-id-5 {color: black;}#sk-container-id-5 pre{padding: 0;}#sk-container-id-5 div.sk-toggleable {background-color: white;}#sk-container-id-5 label.sk-toggleable__label {cursor: pointer;display: block;width: 100%;margin-bottom: 0;padding: 0.3em;box-sizing: border-box;text-align: center;}#sk-container-id-5 label.sk-toggleable__label-arrow:before {content: \"▸\";float: left;margin-right: 0.25em;color: #696969;}#sk-container-id-5 label.sk-toggleable__label-arrow:hover:before {color: black;}#sk-container-id-5 div.sk-estimator:hover label.sk-toggleable__label-arrow:before {color: black;}#sk-container-id-5 div.sk-toggleable__content {max-height: 0;max-width: 0;overflow: hidden;text-align: left;background-color: #f0f8ff;}#sk-container-id-5 div.sk-toggleable__content pre {margin: 0.2em;color: black;border-radius: 0.25em;background-color: #f0f8ff;}#sk-container-id-5 input.sk-toggleable__control:checked~div.sk-toggleable__content {max-height: 200px;max-width: 100%;overflow: auto;}#sk-container-id-5 input.sk-toggleable__control:checked~label.sk-toggleable__label-arrow:before {content: \"▾\";}#sk-container-id-5 div.sk-estimator input.sk-toggleable__control:checked~label.sk-toggleable__label {background-color: #d4ebff;}#sk-container-id-5 div.sk-label input.sk-toggleable__control:checked~label.sk-toggleable__label {background-color: #d4ebff;}#sk-container-id-5 input.sk-hidden--visually {border: 0;clip: rect(1px 1px 1px 1px);clip: rect(1px, 1px, 1px, 1px);height: 1px;margin: -1px;overflow: hidden;padding: 0;position: absolute;width: 1px;}#sk-container-id-5 div.sk-estimator {font-family: monospace;background-color: #f0f8ff;border: 1px dotted black;border-radius: 0.25em;box-sizing: border-box;margin-bottom: 0.5em;}#sk-container-id-5 div.sk-estimator:hover {background-color: #d4ebff;}#sk-container-id-5 div.sk-parallel-item::after {content: \"\";width: 100%;border-bottom: 1px solid gray;flex-grow: 1;}#sk-container-id-5 div.sk-label:hover label.sk-toggleable__label {background-color: #d4ebff;}#sk-container-id-5 div.sk-serial::before {content: \"\";position: absolute;border-left: 1px solid gray;box-sizing: border-box;top: 0;bottom: 0;left: 50%;z-index: 0;}#sk-container-id-5 div.sk-serial {display: flex;flex-direction: column;align-items: center;background-color: white;padding-right: 0.2em;padding-left: 0.2em;position: relative;}#sk-container-id-5 div.sk-item {position: relative;z-index: 1;}#sk-container-id-5 div.sk-parallel {display: flex;align-items: stretch;justify-content: center;background-color: white;position: relative;}#sk-container-id-5 div.sk-item::before, #sk-container-id-5 div.sk-parallel-item::before {content: \"\";position: absolute;border-left: 1px solid gray;box-sizing: border-box;top: 0;bottom: 0;left: 50%;z-index: -1;}#sk-container-id-5 div.sk-parallel-item {display: flex;flex-direction: column;z-index: 1;position: relative;background-color: white;}#sk-container-id-5 div.sk-parallel-item:first-child::after {align-self: flex-end;width: 50%;}#sk-container-id-5 div.sk-parallel-item:last-child::after {align-self: flex-start;width: 50%;}#sk-container-id-5 div.sk-parallel-item:only-child::after {width: 0;}#sk-container-id-5 div.sk-dashed-wrapped {border: 1px dashed gray;margin: 0 0.4em 0.5em 0.4em;box-sizing: border-box;padding-bottom: 0.4em;background-color: white;}#sk-container-id-5 div.sk-label label {font-family: monospace;font-weight: bold;display: inline-block;line-height: 1.2em;}#sk-container-id-5 div.sk-label-container {text-align: center;}#sk-container-id-5 div.sk-container {/* jupyter's `normalize.less` sets `[hidden] { display: none; }` but bootstrap.min.css set `[hidden] { display: none !important; }` so we also need the `!important` here to be able to override the default hidden behavior on the sphinx rendered scikit-learn.org. See: https://github.com/scikit-learn/scikit-learn/issues/21755 */display: inline-block !important;position: relative;}#sk-container-id-5 div.sk-text-repr-fallback {display: none;}</style><div id=\"sk-container-id-5\" class=\"sk-top-container\"><div class=\"sk-text-repr-fallback\"><pre>LinearRegression()</pre><b>In a Jupyter environment, please rerun this cell to show the HTML representation or trust the notebook. <br />On GitHub, the HTML representation is unable to render, please try loading this page with nbviewer.org.</b></div><div class=\"sk-container\" hidden><div class=\"sk-item\"><div class=\"sk-estimator sk-toggleable\"><input class=\"sk-toggleable__control sk-hidden--visually\" id=\"sk-estimator-id-5\" type=\"checkbox\" checked><label for=\"sk-estimator-id-5\" class=\"sk-toggleable__label sk-toggleable__label-arrow\">LinearRegression</label><div class=\"sk-toggleable__content\"><pre>LinearRegression()</pre></div></div></div></div></div>"
      ],
      "text/plain": [
       "LinearRegression()"
      ]
     },
     "execution_count": 71,
     "metadata": {},
     "output_type": "execute_result"
    }
   ],
   "source": [
    "# Fit the polynomial regression model\n",
    "\n",
    "polyreg = LinearRegression()\n",
    "\n",
    "polyreg.fit(x_polynom,yp_train)"
   ]
  },
  {
   "cell_type": "code",
   "execution_count": 74,
   "metadata": {},
   "outputs": [
    {
     "data": {
      "image/png": "[encoded data removed]",
      "text/plain": [
       "<Figure size 640x480 with 1 Axes>"
      ]
     },
     "metadata": {},
     "output_type": "display_data"
    }
   ],
   "source": [
    "plt.scatter(xp_train,yp_train,color='green')\n",
    "\n",
    "plt.plot(xp_test, polyreg.predict(polynom.fit_transform(xp_test)),color='blue')\n",
    "plt.show()"
   ]
  }
 ],
 "metadata": {
  "kernelspec": {
   "display_name": "Python 3",
   "language": "python",
   "name": "python3"
  },
  "language_info": {
   "codemirror_mode": {
    "name": "ipython",
    "version": 3
   },
   "file_extension": ".py",
   "mimetype": "text/x-python",
   "name": "python",
   "nbconvert_exporter": "python",
   "pygments_lexer": "ipython3",
   "version": "3.11.0"
  }
 },
 "nbformat": 4,
 "nbformat_minor": 2
}
